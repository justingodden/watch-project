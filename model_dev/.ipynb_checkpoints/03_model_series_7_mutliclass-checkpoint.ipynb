{
 "cells": [
  {
   "cell_type": "code",
   "execution_count": 1,
   "id": "marked-pharmaceutical",
   "metadata": {},
   "outputs": [],
   "source": [
    "import numpy as np\n",
    "import pandas as pd\n",
    "import matplotlib.pyplot as plt\n",
    "import os\n",
    "import shutil\n",
    "import random\n",
    "\n",
    "import tensorflow as tf\n",
    "from tensorflow.keras.preprocessing import image\n",
    "from tensorflow.keras.preprocessing.image import ImageDataGenerator\n",
    "\n",
    "import cv2"
   ]
  },
  {
   "cell_type": "code",
   "execution_count": 2,
   "id": "fatal-humanitarian",
   "metadata": {},
   "outputs": [],
   "source": [
    "np.random.seed(0)"
   ]
  },
  {
   "cell_type": "code",
   "execution_count": 3,
   "id": "alpine-somerset",
   "metadata": {},
   "outputs": [],
   "source": [
    "df_orig = pd.read_csv('../wf_df_raw.csv')"
   ]
  },
  {
   "cell_type": "code",
   "execution_count": 4,
   "id": "official-broadcast",
   "metadata": {},
   "outputs": [],
   "source": [
    "df = df_orig.copy()"
   ]
  },
  {
   "cell_type": "code",
   "execution_count": 5,
   "id": "elect-setup",
   "metadata": {},
   "outputs": [],
   "source": [
    "df = df.dropna(subset=['img_name'])"
   ]
  },
  {
   "cell_type": "code",
   "execution_count": 6,
   "id": "selective-compatibility",
   "metadata": {},
   "outputs": [],
   "source": [
    "df['series'] = df['series'].map(lambda x: x.replace(' ', '_'))"
   ]
  },
  {
   "cell_type": "code",
   "execution_count": 7,
   "id": "super-beach",
   "metadata": {},
   "outputs": [],
   "source": [
    "series_list = list(df['series'].value_counts()[:7].index)"
   ]
  },
  {
   "cell_type": "code",
   "execution_count": 8,
   "id": "limiting-genetics",
   "metadata": {},
   "outputs": [],
   "source": [
    "series_list.sort()"
   ]
  },
  {
   "cell_type": "code",
   "execution_count": 9,
   "id": "opposed-prisoner",
   "metadata": {},
   "outputs": [],
   "source": [
    "BASE_DIR = os.path.dirname(os.getcwd())\n",
    "\n",
    "RAW_IMGS_DIR = os.path.join(BASE_DIR, 'raw_images')\n",
    "\n",
    "IMAGES_DIR = os.path.join(BASE_DIR, 'Images')\n",
    "TRAINING_DIR = os.path.join(IMAGES_DIR, 'Training')\n",
    "VALIDATION_DIR = os.path.join(IMAGES_DIR, 'Validation')"
   ]
  },
  {
   "cell_type": "code",
   "execution_count": 10,
   "id": "passive-donor",
   "metadata": {},
   "outputs": [],
   "source": [
    "try:\n",
    "    shutil.rmtree(IMAGES_DIR)\n",
    "except: pass\n",
    "\n",
    "os.mkdir(IMAGES_DIR)\n",
    "os.mkdir(TRAINING_DIR)\n",
    "os.mkdir(VALIDATION_DIR)"
   ]
  },
  {
   "cell_type": "code",
   "execution_count": 11,
   "id": "commercial-medication",
   "metadata": {},
   "outputs": [],
   "source": [
    "for series in series_list:\n",
    "    os.mkdir(os.path.join(TRAINING_DIR, series))\n",
    "    os.mkdir(os.path.join(VALIDATION_DIR, series))"
   ]
  },
  {
   "cell_type": "code",
   "execution_count": 12,
   "id": "sexual-color",
   "metadata": {},
   "outputs": [],
   "source": [
    "for index, row in df.iterrows():\n",
    "    \n",
    "    CURR_IMG_DIR = os.path.join(RAW_IMGS_DIR, row['img_name'])\n",
    "    \n",
    "    random_number = np.random.randint(1,101)\n",
    "    \n",
    "    if row['series'] in series_list and random_number <= 80:\n",
    "        shutil.copy(CURR_IMG_DIR, os.path.join(TRAINING_DIR, row['series']))\n",
    "        \n",
    "    elif row['series'] in series_list and random_number > 80:\n",
    "        shutil.copy(CURR_IMG_DIR, os.path.join(VALIDATION_DIR, row['series']))"
   ]
  },
  {
   "cell_type": "code",
   "execution_count": 13,
   "id": "painted-cuisine",
   "metadata": {},
   "outputs": [
    {
     "name": "stdout",
     "output_type": "stream",
     "text": [
      "Found 616 images belonging to 7 classes.\n"
     ]
    }
   ],
   "source": [
    "train_datagen = ImageDataGenerator(rescale=1/255)\n",
    "\n",
    "train_generator = train_datagen.flow_from_directory(\n",
    "    TRAINING_DIR,\n",
    "    target_size=(300, 300),\n",
    "    batch_size=32,\n",
    "    class_mode='categorical'\n",
    ")"
   ]
  },
  {
   "cell_type": "code",
   "execution_count": 14,
   "id": "structured-induction",
   "metadata": {},
   "outputs": [
    {
     "name": "stdout",
     "output_type": "stream",
     "text": [
      "Found 155 images belonging to 7 classes.\n"
     ]
    }
   ],
   "source": [
    "validation_datagen = ImageDataGenerator(rescale=1/255)\n",
    "\n",
    "validation_generator = train_datagen.flow_from_directory(\n",
    "    VALIDATION_DIR,\n",
    "    target_size=(300, 300),\n",
    "    batch_size=32,\n",
    "    class_mode='categorical'\n",
    ")"
   ]
  },
  {
   "cell_type": "code",
   "execution_count": 15,
   "id": "capital-bicycle",
   "metadata": {},
   "outputs": [],
   "source": [
    "model = tf.keras.models.Sequential([\n",
    "    tf.keras.layers.Conv2D(16, (3,3), activation='relu',\n",
    "                           input_shape=(300, 300, 3)),\n",
    "    tf.keras.layers.MaxPooling2D(2, 2),\n",
    "    tf.keras.layers.Conv2D(32, (3,3), activation='relu'),\n",
    "    tf.keras.layers.MaxPooling2D(2,2),\n",
    "    tf.keras.layers.Conv2D(64, (3,3), activation='relu'),\n",
    "    tf.keras.layers.MaxPooling2D(2,2),\n",
    "    tf.keras.layers.Conv2D(64, (3,3), activation='relu'),\n",
    "    tf.keras.layers.MaxPooling2D(2,2),\n",
    "    tf.keras.layers.Conv2D(64, (3,3), activation='relu'),\n",
    "    tf.keras.layers.MaxPooling2D(2,2),\n",
    "    tf.keras.layers.Flatten(),\n",
    "    tf.keras.layers.Dense(512, activation='relu'),\n",
    "    tf.keras.layers.Dense(7, activation='softmax')\n",
    "])"
   ]
  },
  {
   "cell_type": "code",
   "execution_count": 16,
   "id": "banner-lawsuit",
   "metadata": {},
   "outputs": [],
   "source": [
    "model.compile(loss='categorical_crossentropy',\n",
    "              optimizer=tf.keras.optimizers.RMSprop(lr=0.001),\n",
    "              metrics=['accuracy'])"
   ]
  },
  {
   "cell_type": "code",
   "execution_count": 17,
   "id": "monetary-gamma",
   "metadata": {
    "tags": []
   },
   "outputs": [
    {
     "name": "stdout",
     "output_type": "stream",
     "text": [
      "Epoch 1/15\n",
      "20/20 [==============================] - 20s 903ms/step - loss: 2.0308 - accuracy: 0.1443 - val_loss: 2.0609 - val_accuracy: 0.2774\n",
      "Epoch 2/15\n",
      "20/20 [==============================] - 17s 848ms/step - loss: 1.9638 - accuracy: 0.2397 - val_loss: 1.6522 - val_accuracy: 0.3613\n",
      "Epoch 3/15\n",
      "20/20 [==============================] - 17s 849ms/step - loss: 1.4793 - accuracy: 0.4190 - val_loss: 1.1432 - val_accuracy: 0.5484\n",
      "Epoch 4/15\n",
      "20/20 [==============================] - 17s 851ms/step - loss: 0.9553 - accuracy: 0.6480 - val_loss: 1.0661 - val_accuracy: 0.6387\n",
      "Epoch 5/15\n",
      "20/20 [==============================] - 17s 860ms/step - loss: 0.7941 - accuracy: 0.7332 - val_loss: 0.4447 - val_accuracy: 0.8710\n",
      "Epoch 6/15\n",
      "20/20 [==============================] - 17s 850ms/step - loss: 0.3852 - accuracy: 0.8711 - val_loss: 0.3377 - val_accuracy: 0.8968\n",
      "Epoch 7/15\n",
      "20/20 [==============================] - 17s 849ms/step - loss: 0.1759 - accuracy: 0.9535 - val_loss: 0.2528 - val_accuracy: 0.9290\n",
      "Epoch 8/15\n",
      "20/20 [==============================] - 17s 851ms/step - loss: 0.0823 - accuracy: 0.9780 - val_loss: 0.6433 - val_accuracy: 0.8774\n",
      "Epoch 9/15\n",
      "20/20 [==============================] - 17s 863ms/step - loss: 0.0788 - accuracy: 0.9782 - val_loss: 0.2309 - val_accuracy: 0.9355\n",
      "Epoch 10/15\n",
      "20/20 [==============================] - 17s 858ms/step - loss: 0.0877 - accuracy: 0.9882 - val_loss: 0.2063 - val_accuracy: 0.9548\n",
      "Epoch 11/15\n",
      "20/20 [==============================] - 17s 845ms/step - loss: 0.0060 - accuracy: 1.0000 - val_loss: 0.1911 - val_accuracy: 0.9484\n",
      "Epoch 12/15\n",
      "20/20 [==============================] - 17s 845ms/step - loss: 0.6371 - accuracy: 0.9471 - val_loss: 0.1990 - val_accuracy: 0.9548\n",
      "Epoch 13/15\n",
      "20/20 [==============================] - 17s 846ms/step - loss: 0.0044 - accuracy: 1.0000 - val_loss: 0.4255 - val_accuracy: 0.8839\n",
      "Epoch 14/15\n",
      "20/20 [==============================] - 17s 854ms/step - loss: 0.2207 - accuracy: 0.9461 - val_loss: 0.1980 - val_accuracy: 0.9548\n",
      "Epoch 15/15\n",
      "20/20 [==============================] - 17s 853ms/step - loss: 5.0052e-04 - accuracy: 1.0000 - val_loss: 0.1807 - val_accuracy: 0.9548\n"
     ]
    }
   ],
   "source": [
    "history = model.fit(\n",
    "    train_generator,\n",
    "    validation_data=validation_generator,\n",
    "    epochs=15\n",
    ")"
   ]
  },
  {
   "cell_type": "code",
   "execution_count": 18,
   "id": "south-bunny",
   "metadata": {},
   "outputs": [
    {
     "name": "stdout",
     "output_type": "stream",
     "text": [
      "5/5 [==============================] - 3s 663ms/step - loss: 0.1807 - accuracy: 0.9548\n"
     ]
    },
    {
     "data": {
      "text/plain": [
       "[0.18073809146881104, 0.9548386931419373]"
      ]
     },
     "execution_count": 18,
     "metadata": {},
     "output_type": "execute_result"
    }
   ],
   "source": [
    "model.evaluate(validation_generator)"
   ]
  },
  {
   "cell_type": "code",
   "execution_count": 19,
   "id": "adjacent-involvement",
   "metadata": {},
   "outputs": [],
   "source": [
    "pre_trained_model = tf.keras.applications.InceptionV3(\n",
    "    include_top = False,\n",
    "    weights = \"imagenet\",\n",
    "    input_shape = (300, 300, 3)\n",
    ")"
   ]
  },
  {
   "cell_type": "code",
   "execution_count": 20,
   "id": "changed-hamilton",
   "metadata": {},
   "outputs": [],
   "source": [
    "for layer in pre_trained_model.layers:\n",
    "    layer.trainable = False"
   ]
  },
  {
   "cell_type": "code",
   "execution_count": 21,
   "id": "early-brass",
   "metadata": {},
   "outputs": [
    {
     "name": "stdout",
     "output_type": "stream",
     "text": [
      "last layer output shape:  (None, 8, 8, 2048)\n"
     ]
    }
   ],
   "source": [
    "last_layer = pre_trained_model.layers[-1]\n",
    "print('last layer output shape: ', last_layer.output_shape)\n",
    "last_output = last_layer.output"
   ]
  },
  {
   "cell_type": "code",
   "execution_count": 22,
   "id": "portuguese-hello",
   "metadata": {},
   "outputs": [],
   "source": [
    "# Flatten the output layer to 1 dimension\n",
    "x = tf.keras.layers.Flatten()(last_output)\n",
    "# Add a fully connected layer with 1,024 hidden units and ReLU activation\n",
    "x = tf.keras.layers.Dense(1024, activation='relu')(x)\n",
    "# Add a fully connected layer with 1,024 hidden units and ReLU activation\n",
    "x = tf.keras.layers.Dense(1024, activation='relu')(x)\n",
    "# Add a final sigmoid layer for classification\n",
    "x = tf.keras.layers.Dense(7, activation='softmax')(x)"
   ]
  },
  {
   "cell_type": "code",
   "execution_count": 23,
   "id": "listed-ireland",
   "metadata": {},
   "outputs": [],
   "source": [
    "model = tf.keras.models.Model(pre_trained_model.input, x)\n",
    "\n",
    "model.compile(optimizer=tf.keras.optimizers.RMSprop(lr=0.0001),\n",
    "              loss='categorical_crossentropy',\n",
    "              metrics=['accuracy'])"
   ]
  },
  {
   "cell_type": "code",
   "execution_count": 24,
   "id": "accompanied-maryland",
   "metadata": {},
   "outputs": [
    {
     "name": "stdout",
     "output_type": "stream",
     "text": [
      "Epoch 1/30\n",
      "20/20 [==============================] - 24s 969ms/step - loss: 11.7701 - accuracy: 0.3177 - val_loss: 0.6746 - val_accuracy: 0.7548\n",
      "Epoch 2/30\n",
      "20/20 [==============================] - 18s 926ms/step - loss: 0.4266 - accuracy: 0.8744 - val_loss: 0.1442 - val_accuracy: 0.9613\n",
      "Epoch 3/30\n",
      "20/20 [==============================] - 18s 917ms/step - loss: 0.7547 - accuracy: 0.8637 - val_loss: 0.1912 - val_accuracy: 0.9290\n",
      "Epoch 4/30\n",
      "20/20 [==============================] - 18s 950ms/step - loss: 0.3541 - accuracy: 0.9265 - val_loss: 0.4667 - val_accuracy: 0.8323\n",
      "Epoch 5/30\n",
      "20/20 [==============================] - 18s 921ms/step - loss: 0.7410 - accuracy: 0.9066 - val_loss: 0.0815 - val_accuracy: 0.9742\n",
      "Epoch 6/30\n",
      "20/20 [==============================] - 18s 888ms/step - loss: 0.0527 - accuracy: 0.9964 - val_loss: 6.8497 - val_accuracy: 0.4194\n",
      "Epoch 7/30\n",
      "20/20 [==============================] - 18s 897ms/step - loss: 1.2437 - accuracy: 0.8474 - val_loss: 0.0823 - val_accuracy: 0.9806\n",
      "Epoch 8/30\n",
      "20/20 [==============================] - 18s 897ms/step - loss: 0.0036 - accuracy: 1.0000 - val_loss: 0.0617 - val_accuracy: 0.9742\n",
      "Epoch 9/30\n",
      "20/20 [==============================] - 18s 898ms/step - loss: 0.1698 - accuracy: 0.9829 - val_loss: 0.5717 - val_accuracy: 0.8387\n",
      "Epoch 10/30\n",
      "20/20 [==============================] - 18s 880ms/step - loss: 0.1354 - accuracy: 0.9429 - val_loss: 0.0717 - val_accuracy: 0.9806\n",
      "Epoch 11/30\n",
      "20/20 [==============================] - 18s 899ms/step - loss: 7.8202e-04 - accuracy: 1.0000 - val_loss: 0.0688 - val_accuracy: 0.9742\n",
      "Epoch 12/30\n",
      "20/20 [==============================] - 18s 904ms/step - loss: 3.5417e-04 - accuracy: 1.0000 - val_loss: 0.0649 - val_accuracy: 0.9935\n",
      "Epoch 13/30\n",
      "20/20 [==============================] - 18s 887ms/step - loss: 0.1455 - accuracy: 0.9902 - val_loss: 1.2408 - val_accuracy: 0.7871\n",
      "Epoch 14/30\n",
      "20/20 [==============================] - 18s 884ms/step - loss: 0.1796 - accuracy: 0.9609 - val_loss: 0.0658 - val_accuracy: 0.9806\n",
      "Epoch 15/30\n",
      "20/20 [==============================] - 18s 883ms/step - loss: 4.0520e-04 - accuracy: 1.0000 - val_loss: 0.0635 - val_accuracy: 0.9871\n",
      "Epoch 16/30\n",
      "20/20 [==============================] - 18s 892ms/step - loss: 1.8963e-04 - accuracy: 1.0000 - val_loss: 0.0597 - val_accuracy: 0.9935\n",
      "Epoch 17/30\n",
      "20/20 [==============================] - 18s 885ms/step - loss: 1.0364e-04 - accuracy: 1.0000 - val_loss: 0.0653 - val_accuracy: 0.9871\n",
      "Epoch 18/30\n",
      "20/20 [==============================] - 18s 878ms/step - loss: 6.1945e-05 - accuracy: 1.0000 - val_loss: 0.0550 - val_accuracy: 0.9935\n",
      "Epoch 19/30\n",
      "20/20 [==============================] - 18s 884ms/step - loss: 2.0077e-05 - accuracy: 1.0000 - val_loss: 0.0709 - val_accuracy: 0.9871\n",
      "Epoch 20/30\n",
      "20/20 [==============================] - 18s 911ms/step - loss: 9.3157e-06 - accuracy: 1.0000 - val_loss: 0.0680 - val_accuracy: 0.9935\n",
      "Epoch 21/30\n",
      "20/20 [==============================] - 18s 915ms/step - loss: 0.1232 - accuracy: 0.9910 - val_loss: 1.6119 - val_accuracy: 0.7742\n",
      "Epoch 22/30\n",
      "20/20 [==============================] - 18s 889ms/step - loss: 0.1030 - accuracy: 0.9837 - val_loss: 0.0861 - val_accuracy: 0.9677\n",
      "Epoch 23/30\n",
      "20/20 [==============================] - 19s 945ms/step - loss: 6.9736e-05 - accuracy: 1.0000 - val_loss: 0.0773 - val_accuracy: 0.9742\n",
      "Epoch 24/30\n",
      "20/20 [==============================] - 18s 918ms/step - loss: 3.1280e-05 - accuracy: 1.0000 - val_loss: 0.0796 - val_accuracy: 0.9742\n",
      "Epoch 25/30\n",
      "20/20 [==============================] - 18s 881ms/step - loss: 1.9179e-05 - accuracy: 1.0000 - val_loss: 0.0725 - val_accuracy: 0.9871\n",
      "Epoch 26/30\n",
      "20/20 [==============================] - 18s 877ms/step - loss: 1.7220e-05 - accuracy: 1.0000 - val_loss: 0.0780 - val_accuracy: 0.9742\n",
      "Epoch 27/30\n",
      "20/20 [==============================] - 18s 889ms/step - loss: 6.1807e-06 - accuracy: 1.0000 - val_loss: 0.0840 - val_accuracy: 0.9742\n",
      "Epoch 28/30\n",
      "20/20 [==============================] - 18s 878ms/step - loss: 5.3421e-06 - accuracy: 1.0000 - val_loss: 0.0907 - val_accuracy: 0.9742\n",
      "Epoch 29/30\n",
      "20/20 [==============================] - 17s 861ms/step - loss: 1.9663e-06 - accuracy: 1.0000 - val_loss: 0.0835 - val_accuracy: 0.9806\n",
      "Epoch 30/30\n",
      "20/20 [==============================] - 18s 884ms/step - loss: 1.5955e-06 - accuracy: 1.0000 - val_loss: 0.0903 - val_accuracy: 0.9806\n"
     ]
    }
   ],
   "source": [
    "history = model.fit(\n",
    "    train_generator,\n",
    "    validation_data=validation_generator,\n",
    "    batch_size=32,\n",
    "    epochs=30\n",
    ")"
   ]
  },
  {
   "cell_type": "code",
   "execution_count": 25,
   "id": "upset-meeting",
   "metadata": {},
   "outputs": [
    {
     "name": "stdout",
     "output_type": "stream",
     "text": [
      "5/5 [==============================] - 4s 691ms/step - loss: 0.0903 - accuracy: 0.9806\n"
     ]
    },
    {
     "data": {
      "text/plain": [
       "[0.09025662392377853, 0.9806451797485352]"
      ]
     },
     "execution_count": 25,
     "metadata": {},
     "output_type": "execute_result"
    }
   ],
   "source": [
    "model.evaluate(validation_generator)"
   ]
  },
  {
   "cell_type": "code",
   "execution_count": 26,
   "id": "perceived-powell",
   "metadata": {},
   "outputs": [],
   "source": [
    "SERIES = random.choice(series_list)\n",
    "SERIES_DIR = os.path.join(VALIDATION_DIR, SERIES)\n",
    "WATCHES = os.listdir(SERIES_DIR)\n",
    "WATCH = random.choice(WATCHES)\n",
    "WATCH_DIR = os.path.join(SERIES_DIR, WATCH)"
   ]
  },
  {
   "cell_type": "code",
   "execution_count": 27,
   "id": "corrected-discovery",
   "metadata": {},
   "outputs": [],
   "source": [
    "img = image.load_img(WATCH_DIR, target_size=(300, 300))\n",
    "x = image.img_to_array(img)\n",
    "x = x / 255.\n",
    "x = np.expand_dims(x, axis=0)\n",
    "\n",
    "prediction = model.predict(x)"
   ]
  },
  {
   "cell_type": "code",
   "execution_count": 28,
   "id": "dynamic-class",
   "metadata": {},
   "outputs": [
    {
     "name": "stdout",
     "output_type": "stream",
     "text": [
      "Actual:\t\tFormula_1\n",
      "Predicted:\tFormula_1\n"
     ]
    },
    {
     "data": {
      "image/png": "[encoded data removed]",
      "text/plain": [
       "<Figure size 432x288 with 1 Axes>"
      ]
     },
     "metadata": {
      "needs_background": "light"
     },
     "output_type": "display_data"
    }
   ],
   "source": [
    "img_orig = cv2.imread(WATCH_DIR)[...,::-1]\n",
    "imgplot = plt.imshow(img_orig)\n",
    "print(f\"Actual:\\t\\t{SERIES}\\nPredicted:\\t{series_list[np.argmax(prediction)]}\")"
   ]
  },
  {
   "cell_type": "code",
   "execution_count": 29,
   "id": "complimentary-people",
   "metadata": {},
   "outputs": [
    {
     "name": "stdout",
     "output_type": "stream",
     "text": [
      "98.0\n"
     ]
    }
   ],
   "source": [
    "correct = 0\n",
    "n = 200\n",
    "\n",
    "for i in range(n):\n",
    "    SERIES = random.choice(series_list)\n",
    "    SERIES_DIR = os.path.join(VALIDATION_DIR, SERIES)\n",
    "    WATCHES = os.listdir(SERIES_DIR)\n",
    "    WATCH = random.choice(WATCHES)\n",
    "    WATCH_DIR = os.path.join(SERIES_DIR, WATCH)\n",
    "    \n",
    "    img = image.load_img(WATCH_DIR, target_size=(300, 300))\n",
    "    x = image.img_to_array(img) / 255.\n",
    "    x = np.expand_dims(x, axis=0)\n",
    "\n",
    "    prediction = model.predict(x)\n",
    "    \n",
    "    if SERIES == series_list[np.argmax(prediction)]:\n",
    "        correct += 1\n",
    "\n",
    "print(round(100 * correct/n, 2))"
   ]
  }
 ],
 "metadata": {
  "kernelspec": {
   "display_name": "Python 3",
   "language": "python",
   "name": "python3"
  },
  "language_info": {
   "codemirror_mode": {
    "name": "ipython",
    "version": 3
   },
   "file_extension": ".py",
   "mimetype": "text/x-python",
   "name": "python",
   "nbconvert_exporter": "python",
   "pygments_lexer": "ipython3",
   "version": "3.8.8"
  }
 },
 "nbformat": 4,
 "nbformat_minor": 5
}
