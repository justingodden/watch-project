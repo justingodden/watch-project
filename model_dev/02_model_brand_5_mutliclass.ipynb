{
 "cells": [
  {
   "cell_type": "code",
   "execution_count": 1,
   "id": "premier-asian",
   "metadata": {},
   "outputs": [],
   "source": [
    "import numpy as np\n",
    "import pandas as pd\n",
    "import matplotlib.pyplot as plt\n",
    "import os\n",
    "import shutil\n",
    "import random\n",
    "\n",
    "import tensorflow as tf\n",
    "from tensorflow.keras.preprocessing import image\n",
    "from tensorflow.keras.preprocessing.image import ImageDataGenerator\n",
    "import matplotlib.image as mpimg\n",
    "import cv2"
   ]
  },
  {
   "cell_type": "code",
   "execution_count": 2,
   "id": "competent-summary",
   "metadata": {},
   "outputs": [],
   "source": [
    "np.random.seed(0)"
   ]
  },
  {
   "cell_type": "code",
   "execution_count": 3,
   "id": "civilian-vegetation",
   "metadata": {},
   "outputs": [],
   "source": [
    "df_orig = pd.read_csv('../wf_df_raw.csv')"
   ]
  },
  {
   "cell_type": "code",
   "execution_count": 4,
   "id": "consecutive-coordinator",
   "metadata": {},
   "outputs": [],
   "source": [
    "df = df_orig.copy()"
   ]
  },
  {
   "cell_type": "code",
   "execution_count": 5,
   "id": "clear-mainland",
   "metadata": {},
   "outputs": [],
   "source": [
    "df = df.dropna(subset=['img_name'])"
   ]
  },
  {
   "cell_type": "code",
   "execution_count": 6,
   "id": "thick-allocation",
   "metadata": {},
   "outputs": [],
   "source": [
    "df['brand'] = df['brand'].map(lambda x: x.replace(' ', '_'))"
   ]
  },
  {
   "cell_type": "code",
   "execution_count": 7,
   "id": "korean-porcelain",
   "metadata": {},
   "outputs": [],
   "source": [
    "brand_list = list(df['brand'].value_counts()[:5].index)"
   ]
  },
  {
   "cell_type": "code",
   "execution_count": 8,
   "id": "arbitrary-experience",
   "metadata": {},
   "outputs": [],
   "source": [
    "brand_list.sort()"
   ]
  },
  {
   "cell_type": "code",
   "execution_count": 9,
   "id": "encouraging-chemical",
   "metadata": {},
   "outputs": [],
   "source": [
    "BASE_DIR = os.path.dirname(os.getcwd())\n",
    "\n",
    "RAW_IMGS_DIR = os.path.join(BASE_DIR, 'raw_images')\n",
    "\n",
    "IMAGES_DIR = os.path.join(BASE_DIR, 'Images')\n",
    "TRAINING_DIR = os.path.join(IMAGES_DIR, 'Training')\n",
    "VALIDATION_DIR = os.path.join(IMAGES_DIR, 'Validation')"
   ]
  },
  {
   "cell_type": "code",
   "execution_count": 10,
   "id": "interesting-turning",
   "metadata": {},
   "outputs": [],
   "source": [
    "try:\n",
    "    shutil.rmtree(IMAGES_DIR)\n",
    "except: pass\n",
    "\n",
    "os.mkdir(IMAGES_DIR)\n",
    "os.mkdir(TRAINING_DIR)\n",
    "os.mkdir(VALIDATION_DIR)"
   ]
  },
  {
   "cell_type": "code",
   "execution_count": 11,
   "id": "toxic-moses",
   "metadata": {},
   "outputs": [],
   "source": [
    "for brand in brand_list:\n",
    "    os.mkdir(os.path.join(TRAINING_DIR, brand))\n",
    "    os.mkdir(os.path.join(VALIDATION_DIR, brand))"
   ]
  },
  {
   "cell_type": "code",
   "execution_count": 12,
   "id": "variable-banner",
   "metadata": {},
   "outputs": [],
   "source": [
    "for index, row in df.iterrows():\n",
    "    \n",
    "    CURR_IMG_DIR = os.path.join(RAW_IMGS_DIR, row['img_name'])\n",
    "    \n",
    "    random_number = np.random.randint(1,101)\n",
    "    \n",
    "    if row['brand'] in brand_list and random_number <= 80:\n",
    "        shutil.copy(CURR_IMG_DIR, os.path.join(TRAINING_DIR, row['brand']))\n",
    "        \n",
    "    elif row['brand'] in brand_list and random_number > 80:\n",
    "        shutil.copy(CURR_IMG_DIR, os.path.join(VALIDATION_DIR, row['brand']))"
   ]
  },
  {
   "cell_type": "code",
   "execution_count": 13,
   "id": "yellow-differential",
   "metadata": {},
   "outputs": [
    {
     "name": "stdout",
     "output_type": "stream",
     "text": [
      "Found 1964 images belonging to 5 classes.\n"
     ]
    }
   ],
   "source": [
    "train_datagen = ImageDataGenerator(rescale=1/255)\n",
    "\n",
    "train_generator = train_datagen.flow_from_directory(\n",
    "    TRAINING_DIR,\n",
    "    target_size=(300, 300),\n",
    "    batch_size=32,\n",
    "    class_mode='categorical'\n",
    ")"
   ]
  },
  {
   "cell_type": "code",
   "execution_count": 14,
   "id": "given-shannon",
   "metadata": {},
   "outputs": [
    {
     "name": "stdout",
     "output_type": "stream",
     "text": [
      "Found 489 images belonging to 5 classes.\n"
     ]
    }
   ],
   "source": [
    "validation_datagen = ImageDataGenerator(rescale=1/255)\n",
    "\n",
    "validation_generator = train_datagen.flow_from_directory(\n",
    "    VALIDATION_DIR,\n",
    "    target_size=(300, 300),\n",
    "    batch_size=32,\n",
    "    class_mode='categorical'\n",
    ")"
   ]
  },
  {
   "cell_type": "code",
   "execution_count": 15,
   "id": "corresponding-evanescence",
   "metadata": {},
   "outputs": [],
   "source": [
    "model = tf.keras.models.Sequential([\n",
    "    tf.keras.layers.Conv2D(16, (3,3), activation='relu',\n",
    "                           input_shape=(300, 300, 3)),\n",
    "    tf.keras.layers.MaxPooling2D(2, 2),\n",
    "    tf.keras.layers.Conv2D(32, (3,3), activation='relu'),\n",
    "    tf.keras.layers.MaxPooling2D(2,2),\n",
    "    tf.keras.layers.Conv2D(64, (3,3), activation='relu'),\n",
    "    tf.keras.layers.MaxPooling2D(2,2),\n",
    "    tf.keras.layers.Conv2D(64, (3,3), activation='relu'),\n",
    "    tf.keras.layers.MaxPooling2D(2,2),\n",
    "    tf.keras.layers.Conv2D(64, (3,3), activation='relu'),\n",
    "    tf.keras.layers.MaxPooling2D(2,2),\n",
    "    tf.keras.layers.Flatten(),\n",
    "    tf.keras.layers.Dense(512, activation='relu'),\n",
    "    tf.keras.layers.Dense(5, activation='softmax')\n",
    "])"
   ]
  },
  {
   "cell_type": "code",
   "execution_count": 16,
   "id": "confident-anxiety",
   "metadata": {},
   "outputs": [],
   "source": [
    "model.compile(loss='categorical_crossentropy',\n",
    "              optimizer=tf.keras.optimizers.RMSprop(lr=0.001),\n",
    "              metrics=['accuracy'])"
   ]
  },
  {
   "cell_type": "code",
   "execution_count": 17,
   "id": "boxed-honey",
   "metadata": {
    "tags": []
   },
   "outputs": [
    {
     "name": "stdout",
     "output_type": "stream",
     "text": [
      "Epoch 1/15\n",
      "62/62 [==============================] - 68s 1s/step - loss: 1.9908 - accuracy: 0.3181 - val_loss: 1.3367 - val_accuracy: 0.4458\n",
      "Epoch 2/15\n",
      "62/62 [==============================] - 53s 862ms/step - loss: 1.2318 - accuracy: 0.5186 - val_loss: 0.8490 - val_accuracy: 0.7055\n",
      "Epoch 3/15\n",
      "62/62 [==============================] - 54s 866ms/step - loss: 0.7579 - accuracy: 0.7192 - val_loss: 0.5743 - val_accuracy: 0.7955\n",
      "Epoch 4/15\n",
      "62/62 [==============================] - 53s 861ms/step - loss: 0.4468 - accuracy: 0.8415 - val_loss: 0.4117 - val_accuracy: 0.8671\n",
      "Epoch 5/15\n",
      "62/62 [==============================] - 53s 862ms/step - loss: 0.2812 - accuracy: 0.8978 - val_loss: 0.4082 - val_accuracy: 0.8691\n",
      "Epoch 6/15\n",
      "62/62 [==============================] - 53s 855ms/step - loss: 0.2029 - accuracy: 0.9313 - val_loss: 0.2712 - val_accuracy: 0.9202\n",
      "Epoch 7/15\n",
      "62/62 [==============================] - 53s 854ms/step - loss: 0.1643 - accuracy: 0.9512 - val_loss: 0.3198 - val_accuracy: 0.9121\n",
      "Epoch 8/15\n",
      "62/62 [==============================] - 53s 855ms/step - loss: 0.0873 - accuracy: 0.9697 - val_loss: 0.3932 - val_accuracy: 0.9223\n",
      "Epoch 9/15\n",
      "62/62 [==============================] - 53s 862ms/step - loss: 0.0813 - accuracy: 0.9746 - val_loss: 0.3194 - val_accuracy: 0.9223\n",
      "Epoch 10/15\n",
      "62/62 [==============================] - 57s 924ms/step - loss: 0.0440 - accuracy: 0.9829 - val_loss: 0.3754 - val_accuracy: 0.9387\n",
      "Epoch 11/15\n",
      "62/62 [==============================] - 57s 917ms/step - loss: 0.0469 - accuracy: 0.9865 - val_loss: 0.4223 - val_accuracy: 0.8916\n",
      "Epoch 12/15\n",
      "62/62 [==============================] - 55s 881ms/step - loss: 0.0465 - accuracy: 0.9832 - val_loss: 0.4279 - val_accuracy: 0.9141\n",
      "Epoch 13/15\n",
      "62/62 [==============================] - 53s 856ms/step - loss: 0.0187 - accuracy: 0.9938 - val_loss: 0.6894 - val_accuracy: 0.8548\n",
      "Epoch 14/15\n",
      "62/62 [==============================] - 54s 872ms/step - loss: 0.0458 - accuracy: 0.9851 - val_loss: 0.4029 - val_accuracy: 0.9223\n",
      "Epoch 15/15\n",
      "62/62 [==============================] - 53s 864ms/step - loss: 0.0049 - accuracy: 0.9982 - val_loss: 0.5027 - val_accuracy: 0.9387\n"
     ]
    }
   ],
   "source": [
    "history = model.fit(\n",
    "    train_generator,\n",
    "    validation_data=validation_generator,\n",
    "    epochs=15\n",
    ")"
   ]
  },
  {
   "cell_type": "code",
   "execution_count": 18,
   "id": "korean-fiction",
   "metadata": {},
   "outputs": [],
   "source": [
    "pre_trained_model = tf.keras.applications.InceptionV3(\n",
    "    include_top = False,\n",
    "    weights = \"imagenet\",\n",
    "    input_shape = (300, 300, 3)\n",
    ")"
   ]
  },
  {
   "cell_type": "code",
   "execution_count": 19,
   "id": "democratic-atmosphere",
   "metadata": {},
   "outputs": [],
   "source": [
    "for layer in pre_trained_model.layers:\n",
    "    layer.trainable = False"
   ]
  },
  {
   "cell_type": "code",
   "execution_count": 20,
   "id": "acquired-perry",
   "metadata": {},
   "outputs": [
    {
     "name": "stdout",
     "output_type": "stream",
     "text": [
      "last layer output shape:  (None, 8, 8, 2048)\n"
     ]
    }
   ],
   "source": [
    "last_layer = pre_trained_model.layers[-1]\n",
    "print('last layer output shape: ', last_layer.output_shape)\n",
    "last_output = last_layer.output"
   ]
  },
  {
   "cell_type": "code",
   "execution_count": 21,
   "id": "abroad-prize",
   "metadata": {},
   "outputs": [],
   "source": [
    "# Flatten the output layer to 1 dimension\n",
    "x = tf.keras.layers.Flatten()(last_output)\n",
    "# Add a fully connected layer with 1,024 hidden units and ReLU activation\n",
    "x = tf.keras.layers.Dense(1024, activation='relu')(x)\n",
    "# Add a fully connected layer with 1,024 hidden units and ReLU activation\n",
    "x = tf.keras.layers.Dense(1024, activation='relu')(x)\n",
    "# Add a final sigmoid layer for classification\n",
    "x = tf.keras.layers.Dense(5, activation='softmax')(x)"
   ]
  },
  {
   "cell_type": "code",
   "execution_count": 22,
   "id": "loved-meaning",
   "metadata": {},
   "outputs": [],
   "source": [
    "model = tf.keras.models.Model(pre_trained_model.input, x)\n",
    "\n",
    "model.compile(optimizer=tf.keras.optimizers.RMSprop(lr=0.0001),\n",
    "              loss='categorical_crossentropy',\n",
    "              metrics=['accuracy'])"
   ]
  },
  {
   "cell_type": "code",
   "execution_count": 23,
   "id": "medium-islam",
   "metadata": {},
   "outputs": [
    {
     "name": "stdout",
     "output_type": "stream",
     "text": [
      "Epoch 1/45\n",
      "62/62 [==============================] - 60s 906ms/step - loss: 7.6687 - accuracy: 0.4053 - val_loss: 1.6839 - val_accuracy: 0.5603\n",
      "Epoch 2/45\n",
      "62/62 [==============================] - 54s 878ms/step - loss: 1.1241 - accuracy: 0.7099 - val_loss: 0.3904 - val_accuracy: 0.8691\n",
      "Epoch 3/45\n",
      "62/62 [==============================] - 54s 879ms/step - loss: 0.4539 - accuracy: 0.8496 - val_loss: 0.5972 - val_accuracy: 0.7935\n",
      "Epoch 4/45\n",
      "62/62 [==============================] - 54s 879ms/step - loss: 0.3832 - accuracy: 0.8784 - val_loss: 0.2245 - val_accuracy: 0.9325\n",
      "Epoch 5/45\n",
      "62/62 [==============================] - 55s 893ms/step - loss: 0.1837 - accuracy: 0.9515 - val_loss: 0.1542 - val_accuracy: 0.9489\n",
      "Epoch 6/45\n",
      "62/62 [==============================] - 54s 876ms/step - loss: 0.1305 - accuracy: 0.9733 - val_loss: 0.1396 - val_accuracy: 0.9591\n",
      "Epoch 7/45\n",
      "62/62 [==============================] - 54s 878ms/step - loss: 0.1427 - accuracy: 0.9714 - val_loss: 0.1641 - val_accuracy: 0.9611\n",
      "Epoch 8/45\n",
      "62/62 [==============================] - 55s 886ms/step - loss: 0.0958 - accuracy: 0.9823 - val_loss: 0.1600 - val_accuracy: 0.9632\n",
      "Epoch 9/45\n",
      "62/62 [==============================] - 55s 880ms/step - loss: 0.0488 - accuracy: 0.9933 - val_loss: 0.1549 - val_accuracy: 0.9591\n",
      "Epoch 10/45\n",
      "62/62 [==============================] - 54s 875ms/step - loss: 0.0386 - accuracy: 0.9951 - val_loss: 0.2183 - val_accuracy: 0.9571\n",
      "Epoch 11/45\n",
      "62/62 [==============================] - 54s 875ms/step - loss: 0.0057 - accuracy: 0.9995 - val_loss: 2.3603 - val_accuracy: 0.8078\n",
      "Epoch 12/45\n",
      "62/62 [==============================] - 55s 884ms/step - loss: 0.1873 - accuracy: 0.9799 - val_loss: 0.3498 - val_accuracy: 0.9427\n",
      "Epoch 13/45\n",
      "62/62 [==============================] - 55s 887ms/step - loss: 0.0254 - accuracy: 0.9980 - val_loss: 0.2268 - val_accuracy: 0.9591\n",
      "Epoch 14/45\n",
      "62/62 [==============================] - 55s 884ms/step - loss: 0.0662 - accuracy: 0.9931 - val_loss: 0.2509 - val_accuracy: 0.9611\n",
      "Epoch 15/45\n",
      "62/62 [==============================] - 55s 881ms/step - loss: 0.0642 - accuracy: 0.9930 - val_loss: 0.2815 - val_accuracy: 0.9468\n",
      "Epoch 16/45\n",
      "62/62 [==============================] - 56s 907ms/step - loss: 2.3029e-04 - accuracy: 1.0000 - val_loss: 0.2234 - val_accuracy: 0.9591\n",
      "Epoch 17/45\n",
      "62/62 [==============================] - 54s 877ms/step - loss: 0.0960 - accuracy: 0.9908 - val_loss: 0.2429 - val_accuracy: 0.9611\n",
      "Epoch 18/45\n",
      "62/62 [==============================] - 54s 879ms/step - loss: 1.0408e-04 - accuracy: 1.0000 - val_loss: 5.6370 - val_accuracy: 0.7526\n",
      "Epoch 19/45\n",
      "62/62 [==============================] - 54s 878ms/step - loss: 0.5937 - accuracy: 0.9569 - val_loss: 0.2896 - val_accuracy: 0.9550\n",
      "Epoch 20/45\n",
      "62/62 [==============================] - 54s 875ms/step - loss: 0.0168 - accuracy: 0.9989 - val_loss: 0.3345 - val_accuracy: 0.9468\n",
      "Epoch 21/45\n",
      "62/62 [==============================] - 55s 883ms/step - loss: 0.0015 - accuracy: 0.9990 - val_loss: 0.2361 - val_accuracy: 0.9611\n",
      "Epoch 22/45\n",
      "62/62 [==============================] - 53s 863ms/step - loss: 1.6394e-05 - accuracy: 1.0000 - val_loss: 0.2667 - val_accuracy: 0.9611\n",
      "Epoch 23/45\n",
      "62/62 [==============================] - 53s 863ms/step - loss: 0.0951 - accuracy: 0.9933 - val_loss: 0.2374 - val_accuracy: 0.9530\n",
      "Epoch 24/45\n",
      "62/62 [==============================] - 54s 864ms/step - loss: 1.1988e-05 - accuracy: 1.0000 - val_loss: 0.2780 - val_accuracy: 0.9530\n",
      "Epoch 25/45\n",
      "62/62 [==============================] - 53s 862ms/step - loss: 0.0398 - accuracy: 0.9977 - val_loss: 0.2954 - val_accuracy: 0.9652\n",
      "Epoch 26/45\n",
      "62/62 [==============================] - 54s 878ms/step - loss: 4.4322e-05 - accuracy: 1.0000 - val_loss: 0.2879 - val_accuracy: 0.9571\n",
      "Epoch 27/45\n",
      "62/62 [==============================] - 54s 871ms/step - loss: 4.8986e-06 - accuracy: 1.0000 - val_loss: 0.2938 - val_accuracy: 0.9591\n",
      "Epoch 28/45\n",
      "62/62 [==============================] - 54s 864ms/step - loss: 0.1480 - accuracy: 0.9894 - val_loss: 0.2933 - val_accuracy: 0.9571\n",
      "Epoch 29/45\n",
      "62/62 [==============================] - 54s 863ms/step - loss: 1.0523e-05 - accuracy: 1.0000 - val_loss: 0.2620 - val_accuracy: 0.9591\n",
      "Epoch 30/45\n",
      "62/62 [==============================] - 53s 862ms/step - loss: 2.7582e-06 - accuracy: 1.0000 - val_loss: 0.3291 - val_accuracy: 0.9550\n",
      "Epoch 31/45\n",
      "62/62 [==============================] - 53s 863ms/step - loss: 0.4118 - accuracy: 0.9737 - val_loss: 0.2946 - val_accuracy: 0.9571\n",
      "Epoch 32/45\n",
      "62/62 [==============================] - 53s 861ms/step - loss: 4.5913e-06 - accuracy: 1.0000 - val_loss: 0.2820 - val_accuracy: 0.9632\n",
      "Epoch 33/45\n",
      "62/62 [==============================] - 53s 863ms/step - loss: 0.0240 - accuracy: 0.9978 - val_loss: 0.2556 - val_accuracy: 0.9611\n",
      "Epoch 34/45\n",
      "62/62 [==============================] - 53s 863ms/step - loss: 5.2410e-05 - accuracy: 1.0000 - val_loss: 0.2790 - val_accuracy: 0.9652\n",
      "Epoch 35/45\n",
      "62/62 [==============================] - 53s 862ms/step - loss: 7.8707e-07 - accuracy: 1.0000 - val_loss: 0.2776 - val_accuracy: 0.9611\n",
      "Epoch 36/45\n",
      "62/62 [==============================] - 54s 865ms/step - loss: 3.5942e-07 - accuracy: 1.0000 - val_loss: 0.2910 - val_accuracy: 0.9652\n",
      "Epoch 37/45\n",
      "62/62 [==============================] - 53s 862ms/step - loss: 7.8677e-08 - accuracy: 1.0000 - val_loss: 0.2778 - val_accuracy: 0.9673\n",
      "Epoch 38/45\n",
      "62/62 [==============================] - 54s 873ms/step - loss: 2.0545e-08 - accuracy: 1.0000 - val_loss: 0.2994 - val_accuracy: 0.9652\n",
      "Epoch 39/45\n",
      "62/62 [==============================] - 54s 868ms/step - loss: 6.0856e-09 - accuracy: 1.0000 - val_loss: 0.3204 - val_accuracy: 0.9611\n",
      "Epoch 40/45\n",
      "62/62 [==============================] - 53s 859ms/step - loss: 5.7840e-09 - accuracy: 1.0000 - val_loss: 0.3295 - val_accuracy: 0.9611\n",
      "Epoch 41/45\n",
      "62/62 [==============================] - 53s 859ms/step - loss: 4.5786e-09 - accuracy: 1.0000 - val_loss: 0.3186 - val_accuracy: 0.9611\n",
      "Epoch 42/45\n",
      "62/62 [==============================] - 53s 859ms/step - loss: 3.1451e-09 - accuracy: 1.0000 - val_loss: 0.3180 - val_accuracy: 0.9632\n",
      "Epoch 43/45\n",
      "62/62 [==============================] - 53s 858ms/step - loss: 2.2441e-09 - accuracy: 1.0000 - val_loss: 0.3162 - val_accuracy: 0.9611\n",
      "Epoch 44/45\n",
      "62/62 [==============================] - 53s 859ms/step - loss: 2.7811e-09 - accuracy: 1.0000 - val_loss: 0.3197 - val_accuracy: 0.9611\n",
      "Epoch 45/45\n",
      "62/62 [==============================] - 53s 860ms/step - loss: 1.2627e-09 - accuracy: 1.0000 - val_loss: 0.3194 - val_accuracy: 0.9611\n"
     ]
    }
   ],
   "source": [
    "history = model.fit(\n",
    "    train_generator,\n",
    "    validation_data=validation_generator,\n",
    "    batch_size=32,\n",
    "    epochs=45\n",
    ")"
   ]
  },
  {
   "cell_type": "code",
   "execution_count": 24,
   "id": "reported-purple",
   "metadata": {},
   "outputs": [
    {
     "name": "stdout",
     "output_type": "stream",
     "text": [
      "16/16 [==============================] - 11s 653ms/step - loss: 0.3194 - accuracy: 0.9611\n"
     ]
    },
    {
     "data": {
      "text/plain": [
       "[0.31939834356307983, 0.9611452221870422]"
      ]
     },
     "execution_count": 24,
     "metadata": {},
     "output_type": "execute_result"
    }
   ],
   "source": [
    "model.evaluate(validation_generator)"
   ]
  },
  {
   "cell_type": "code",
   "execution_count": 162,
   "id": "rubber-touch",
   "metadata": {},
   "outputs": [],
   "source": [
    "BRAND = random.choice(brand_list)\n",
    "BRAND_DIR = os.path.join(VALIDATION_DIR, BRAND)\n",
    "WATCHES = os.listdir(BRAND_DIR)\n",
    "WATCH = random.choice(WATCHES)\n",
    "WATCH_DIR = os.path.join(BRAND_DIR, WATCH)"
   ]
  },
  {
   "cell_type": "code",
   "execution_count": 163,
   "id": "happy-hurricane",
   "metadata": {},
   "outputs": [],
   "source": [
    "img = image.load_img(WATCH_DIR, target_size=(300, 300))\n",
    "x = image.img_to_array(img)\n",
    "x = x / 255.\n",
    "x = np.expand_dims(x, axis=0)\n",
    "\n",
    "prediction = model.predict(x)"
   ]
  },
  {
   "cell_type": "code",
   "execution_count": 164,
   "id": "broadband-bottom",
   "metadata": {},
   "outputs": [
    {
     "name": "stdout",
     "output_type": "stream",
     "text": [
      "Actual:\t\tBreitling\n",
      "Predicted:\tBreitling\n"
     ]
    },
    {
     "data": {
      "image/png": "[encoded data removed]",
      "text/plain": [
       "<Figure size 432x288 with 1 Axes>"
      ]
     },
     "metadata": {
      "needs_background": "light"
     },
     "output_type": "display_data"
    }
   ],
   "source": [
    "img_orig = cv2.imread(WATCH_DIR)[...,::-1]\n",
    "imgplot = plt.imshow(img_orig)\n",
    "print(f\"Actual:\\t\\t{BRAND}\\nPredicted:\\t{brand_list[np.argmax(prediction)]}\")"
   ]
  },
  {
   "cell_type": "code",
   "execution_count": 169,
   "id": "mental-dream",
   "metadata": {},
   "outputs": [
    {
     "name": "stdout",
     "output_type": "stream",
     "text": [
      "97.5\n"
     ]
    }
   ],
   "source": [
    "correct = 0\n",
    "n = 200\n",
    "\n",
    "for i in range(n):\n",
    "    BRAND = random.choice(brand_list)\n",
    "    BRAND_DIR = os.path.join(VALIDATION_DIR, BRAND)\n",
    "    WATCHES = os.listdir(BRAND_DIR)\n",
    "    WATCH = random.choice(WATCHES)\n",
    "    WATCH_DIR = os.path.join(BRAND_DIR, WATCH)\n",
    "    \n",
    "    img = image.load_img(WATCH_DIR, target_size=(300, 300))\n",
    "    x = image.img_to_array(img) / 255.\n",
    "    x = np.expand_dims(x, axis=0)\n",
    "\n",
    "    prediction = model.predict(x)\n",
    "    \n",
    "    if BRAND == brand_list[np.argmax(prediction)]:\n",
    "        correct += 1\n",
    "\n",
    "print(round(100 * correct/n, 2))"
   ]
  }
 ],
 "metadata": {
  "kernelspec": {
   "display_name": "Python 3",
   "language": "python",
   "name": "python3"
  },
  "language_info": {
   "codemirror_mode": {
    "name": "ipython",
    "version": 3
   },
   "file_extension": ".py",
   "mimetype": "text/x-python",
   "name": "python",
   "nbconvert_exporter": "python",
   "pygments_lexer": "ipython3",
   "version": "3.8.8"
  }
 },
 "nbformat": 4,
 "nbformat_minor": 5
}
