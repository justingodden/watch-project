{
 "cells": [
  {
   "cell_type": "code",
   "execution_count": 1,
   "id": "present-practice",
   "metadata": {},
   "outputs": [],
   "source": [
    "import numpy as np\n",
    "import pandas as pd\n",
    "import matplotlib.pyplot as plt\n",
    "import os\n",
    "import shutil\n",
    "import random\n",
    "\n",
    "import tensorflow as tf\n",
    "from tensorflow.keras.preprocessing import image\n",
    "from tensorflow.keras.preprocessing.image import ImageDataGenerator\n",
    "\n",
    "import cv2"
   ]
  },
  {
   "cell_type": "code",
   "execution_count": 2,
   "id": "executed-manchester",
   "metadata": {},
   "outputs": [],
   "source": [
    "np.random.seed(0)"
   ]
  },
  {
   "cell_type": "code",
   "execution_count": 3,
   "id": "minus-edition",
   "metadata": {},
   "outputs": [],
   "source": [
    "df_orig = pd.read_csv('../wf_df_raw.csv')"
   ]
  },
  {
   "cell_type": "code",
   "execution_count": 4,
   "id": "defined-fighter",
   "metadata": {},
   "outputs": [],
   "source": [
    "df = df_orig.copy()"
   ]
  },
  {
   "cell_type": "code",
   "execution_count": 5,
   "id": "israeli-studio",
   "metadata": {},
   "outputs": [],
   "source": [
    "df = df.dropna(subset=['img_name'])"
   ]
  },
  {
   "cell_type": "code",
   "execution_count": 6,
   "id": "focal-trinidad",
   "metadata": {},
   "outputs": [],
   "source": [
    "df['model'] = df['model'].map(lambda x: x.replace(' ', '_'))"
   ]
  },
  {
   "cell_type": "code",
   "execution_count": 7,
   "id": "representative-experience",
   "metadata": {},
   "outputs": [],
   "source": [
    "model_list = list(df['model'].value_counts()[:12].index)"
   ]
  },
  {
   "cell_type": "code",
   "execution_count": 8,
   "id": "removable-tobago",
   "metadata": {},
   "outputs": [],
   "source": [
    "model_list.sort()"
   ]
  },
  {
   "cell_type": "code",
   "execution_count": 9,
   "id": "southwest-tooth",
   "metadata": {},
   "outputs": [],
   "source": [
    "BASE_DIR = os.path.dirname(os.getcwd())\n",
    "\n",
    "RAW_IMGS_DIR = os.path.join(BASE_DIR, 'raw_images')\n",
    "\n",
    "IMAGES_DIR = os.path.join(BASE_DIR, 'Images')\n",
    "TRAINING_DIR = os.path.join(IMAGES_DIR, 'Training')\n",
    "VALIDATION_DIR = os.path.join(IMAGES_DIR, 'Validation')"
   ]
  },
  {
   "cell_type": "code",
   "execution_count": 10,
   "id": "assigned-andorra",
   "metadata": {},
   "outputs": [],
   "source": [
    "try:\n",
    "    shutil.rmtree(IMAGES_DIR)\n",
    "except: pass\n",
    "\n",
    "os.mkdir(IMAGES_DIR)\n",
    "os.mkdir(TRAINING_DIR)\n",
    "os.mkdir(VALIDATION_DIR)"
   ]
  },
  {
   "cell_type": "code",
   "execution_count": 11,
   "id": "military-sessions",
   "metadata": {},
   "outputs": [],
   "source": [
    "for model in model_list:\n",
    "    os.mkdir(os.path.join(TRAINING_DIR, model))\n",
    "    os.mkdir(os.path.join(VALIDATION_DIR, model))"
   ]
  },
  {
   "cell_type": "code",
   "execution_count": 12,
   "id": "subsequent-answer",
   "metadata": {},
   "outputs": [],
   "source": [
    "for index, row in df.iterrows():\n",
    "    \n",
    "    CURR_IMG_DIR = os.path.join(RAW_IMGS_DIR, row['img_name'])\n",
    "    \n",
    "    random_number = np.random.randint(1,101)\n",
    "    \n",
    "    if row['model'] in model_list and random_number <= 80:\n",
    "        shutil.copy(CURR_IMG_DIR, os.path.join(TRAINING_DIR, row['model']))\n",
    "        \n",
    "    elif row['model'] in model_list and random_number > 80:\n",
    "        shutil.copy(CURR_IMG_DIR, os.path.join(VALIDATION_DIR, row['model']))"
   ]
  },
  {
   "cell_type": "code",
   "execution_count": 62,
   "id": "center-venice",
   "metadata": {},
   "outputs": [
    {
     "name": "stdout",
     "output_type": "stream",
     "text": [
      "Found 198 images belonging to 12 classes.\n"
     ]
    }
   ],
   "source": [
    "train_datagen = ImageDataGenerator(\n",
    "    rescale=1/255,\n",
    "#     rotation_range=40,\n",
    "#     width_shift_range=0.2,\n",
    "#     height_shift_range=0.2,\n",
    "#     shear_range=0.2,\n",
    "#     zoom_range=0.2,\n",
    "#     horizontal_flip=False,\n",
    "#     fill_mode='nearest'\n",
    ")\n",
    "\n",
    "train_generator = train_datagen.flow_from_directory(\n",
    "    TRAINING_DIR,\n",
    "    target_size=(300, 300),\n",
    "#     batch_size=32,\n",
    "    class_mode='categorical'\n",
    ")"
   ]
  },
  {
   "cell_type": "code",
   "execution_count": 63,
   "id": "first-clear",
   "metadata": {},
   "outputs": [
    {
     "name": "stdout",
     "output_type": "stream",
     "text": [
      "Found 41 images belonging to 12 classes.\n"
     ]
    }
   ],
   "source": [
    "validation_datagen = ImageDataGenerator(rescale=1/255)\n",
    "\n",
    "validation_generator = train_datagen.flow_from_directory(\n",
    "    VALIDATION_DIR,\n",
    "    target_size=(300, 300),\n",
    "#     batch_size=32,\n",
    "    class_mode='categorical'\n",
    ")"
   ]
  },
  {
   "cell_type": "code",
   "execution_count": 64,
   "id": "under-legend",
   "metadata": {},
   "outputs": [],
   "source": [
    "model = tf.keras.models.Sequential([\n",
    "    tf.keras.layers.Conv2D(16, (3,3), activation='relu',\n",
    "                           input_shape=(300, 300, 3)),\n",
    "    tf.keras.layers.MaxPooling2D(2, 2),\n",
    "    tf.keras.layers.Conv2D(32, (3,3), activation='relu'),\n",
    "    tf.keras.layers.MaxPooling2D(2,2),\n",
    "    tf.keras.layers.Conv2D(64, (3,3), activation='relu'),\n",
    "    tf.keras.layers.MaxPooling2D(2,2),\n",
    "    tf.keras.layers.Conv2D(64, (3,3), activation='relu'),\n",
    "    tf.keras.layers.MaxPooling2D(2,2),\n",
    "    tf.keras.layers.Conv2D(64, (3,3), activation='relu'),\n",
    "    tf.keras.layers.MaxPooling2D(2,2),\n",
    "    tf.keras.layers.Flatten(),\n",
    "    tf.keras.layers.Dense(512, activation='relu'),\n",
    "    tf.keras.layers.Dense(12, activation='softmax')\n",
    "])"
   ]
  },
  {
   "cell_type": "code",
   "execution_count": 65,
   "id": "smooth-negotiation",
   "metadata": {},
   "outputs": [],
   "source": [
    "model.compile(loss='categorical_crossentropy',\n",
    "              optimizer=tf.keras.optimizers.RMSprop(lr=0.001),\n",
    "              metrics=['accuracy'])"
   ]
  },
  {
   "cell_type": "code",
   "execution_count": 66,
   "id": "arranged-consistency",
   "metadata": {
    "tags": []
   },
   "outputs": [
    {
     "name": "stdout",
     "output_type": "stream",
     "text": [
      "Epoch 1/40\n",
      "7/7 [==============================] - 7s 922ms/step - loss: 3.9253 - accuracy: 0.0746 - val_loss: 2.4731 - val_accuracy: 0.1951\n",
      "Epoch 2/40\n",
      "7/7 [==============================] - 5s 787ms/step - loss: 2.4770 - accuracy: 0.1828 - val_loss: 2.4660 - val_accuracy: 0.2927\n",
      "Epoch 3/40\n",
      "7/7 [==============================] - 5s 780ms/step - loss: 2.4349 - accuracy: 0.2452 - val_loss: 2.4798 - val_accuracy: 0.1220\n",
      "Epoch 4/40\n",
      "7/7 [==============================] - 5s 777ms/step - loss: 2.3682 - accuracy: 0.1893 - val_loss: 2.3581 - val_accuracy: 0.1463\n",
      "Epoch 5/40\n",
      "7/7 [==============================] - 5s 773ms/step - loss: 2.1833 - accuracy: 0.2658 - val_loss: 2.2631 - val_accuracy: 0.2927\n",
      "Epoch 6/40\n",
      "7/7 [==============================] - 5s 777ms/step - loss: 2.2225 - accuracy: 0.2139 - val_loss: 1.9404 - val_accuracy: 0.2439\n",
      "Epoch 7/40\n",
      "7/7 [==============================] - 5s 779ms/step - loss: 1.9722 - accuracy: 0.2715 - val_loss: 2.7484 - val_accuracy: 0.1951\n",
      "Epoch 8/40\n",
      "7/7 [==============================] - 5s 881ms/step - loss: 1.8547 - accuracy: 0.3436 - val_loss: 1.8208 - val_accuracy: 0.1951\n",
      "Epoch 9/40\n",
      "7/7 [==============================] - 5s 780ms/step - loss: 1.6160 - accuracy: 0.3477 - val_loss: 1.5092 - val_accuracy: 0.4634\n",
      "Epoch 10/40\n",
      "7/7 [==============================] - 5s 778ms/step - loss: 2.3380 - accuracy: 0.4229 - val_loss: 1.5169 - val_accuracy: 0.4146\n",
      "Epoch 11/40\n",
      "7/7 [==============================] - 5s 781ms/step - loss: 1.2110 - accuracy: 0.5893 - val_loss: 2.0037 - val_accuracy: 0.2683\n",
      "Epoch 12/40\n",
      "7/7 [==============================] - 5s 774ms/step - loss: 1.3966 - accuracy: 0.4112 - val_loss: 1.3367 - val_accuracy: 0.5366\n",
      "Epoch 13/40\n",
      "7/7 [==============================] - 5s 778ms/step - loss: 1.1027 - accuracy: 0.5828 - val_loss: 1.3726 - val_accuracy: 0.4634\n",
      "Epoch 14/40\n",
      "7/7 [==============================] - 5s 779ms/step - loss: 0.8668 - accuracy: 0.6660 - val_loss: 1.1012 - val_accuracy: 0.5854\n",
      "Epoch 15/40\n",
      "7/7 [==============================] - 5s 775ms/step - loss: 0.9252 - accuracy: 0.6371 - val_loss: 1.5501 - val_accuracy: 0.4634\n",
      "Epoch 16/40\n",
      "7/7 [==============================] - 5s 880ms/step - loss: 0.7851 - accuracy: 0.7520 - val_loss: 1.1984 - val_accuracy: 0.4634\n",
      "Epoch 17/40\n",
      "7/7 [==============================] - 5s 776ms/step - loss: 1.2103 - accuracy: 0.5406 - val_loss: 0.9346 - val_accuracy: 0.7073\n",
      "Epoch 18/40\n",
      "7/7 [==============================] - 5s 780ms/step - loss: 0.6182 - accuracy: 0.7893 - val_loss: 0.7169 - val_accuracy: 0.7317\n",
      "Epoch 19/40\n",
      "7/7 [==============================] - 5s 778ms/step - loss: 0.7550 - accuracy: 0.7203 - val_loss: 0.7149 - val_accuracy: 0.6341\n",
      "Epoch 20/40\n",
      "7/7 [==============================] - 5s 780ms/step - loss: 0.4462 - accuracy: 0.8351 - val_loss: 0.5196 - val_accuracy: 0.8049\n",
      "Epoch 21/40\n",
      "7/7 [==============================] - 5s 780ms/step - loss: 0.7388 - accuracy: 0.7380 - val_loss: 0.5754 - val_accuracy: 0.7561\n",
      "Epoch 22/40\n",
      "7/7 [==============================] - 5s 778ms/step - loss: 0.4006 - accuracy: 0.8687 - val_loss: 0.3744 - val_accuracy: 0.8537\n",
      "Epoch 23/40\n",
      "7/7 [==============================] - 5s 778ms/step - loss: 0.3293 - accuracy: 0.8652 - val_loss: 0.6473 - val_accuracy: 0.7317\n",
      "Epoch 24/40\n",
      "7/7 [==============================] - 5s 778ms/step - loss: 0.2671 - accuracy: 0.9223 - val_loss: 0.4836 - val_accuracy: 0.8293\n",
      "Epoch 25/40\n",
      "7/7 [==============================] - 5s 777ms/step - loss: 0.1929 - accuracy: 0.9435 - val_loss: 2.9745 - val_accuracy: 0.5122\n",
      "Epoch 26/40\n",
      "7/7 [==============================] - 5s 776ms/step - loss: 0.9689 - accuracy: 0.7559 - val_loss: 0.2480 - val_accuracy: 0.9024\n",
      "Epoch 27/40\n",
      "7/7 [==============================] - 5s 786ms/step - loss: 0.1941 - accuracy: 0.9383 - val_loss: 0.2081 - val_accuracy: 0.9268\n",
      "Epoch 28/40\n",
      "7/7 [==============================] - 6s 799ms/step - loss: 0.0394 - accuracy: 0.9922 - val_loss: 0.4570 - val_accuracy: 0.9024\n",
      "Epoch 29/40\n",
      "7/7 [==============================] - 6s 801ms/step - loss: 0.0754 - accuracy: 0.9699 - val_loss: 0.1741 - val_accuracy: 0.9268\n",
      "Epoch 30/40\n",
      "7/7 [==============================] - 5s 788ms/step - loss: 0.2032 - accuracy: 0.9634 - val_loss: 0.5480 - val_accuracy: 0.7561\n",
      "Epoch 31/40\n",
      "7/7 [==============================] - 6s 892ms/step - loss: 0.1228 - accuracy: 0.9836 - val_loss: 0.2227 - val_accuracy: 0.8780\n",
      "Epoch 32/40\n",
      "7/7 [==============================] - 6s 961ms/step - loss: 0.0165 - accuracy: 1.0000 - val_loss: 0.1761 - val_accuracy: 0.9268\n",
      "Epoch 33/40\n",
      "7/7 [==============================] - 6s 831ms/step - loss: 0.0059 - accuracy: 1.0000 - val_loss: 0.2019 - val_accuracy: 0.9268\n",
      "Epoch 34/40\n",
      "7/7 [==============================] - 6s 823ms/step - loss: 0.0029 - accuracy: 1.0000 - val_loss: 0.2253 - val_accuracy: 0.9024\n",
      "Epoch 35/40\n",
      "7/7 [==============================] - 6s 788ms/step - loss: 0.0019 - accuracy: 1.0000 - val_loss: 0.3211 - val_accuracy: 0.9268\n",
      "Epoch 36/40\n",
      "7/7 [==============================] - 5s 884ms/step - loss: 8.2552e-04 - accuracy: 1.0000 - val_loss: 0.1956 - val_accuracy: 0.9268\n",
      "Epoch 37/40\n",
      "7/7 [==============================] - 5s 786ms/step - loss: 1.7792e-04 - accuracy: 1.0000 - val_loss: 0.2233 - val_accuracy: 0.9268\n",
      "Epoch 38/40\n",
      "7/7 [==============================] - 6s 794ms/step - loss: 1.8252e-04 - accuracy: 1.0000 - val_loss: 0.1911 - val_accuracy: 0.9268\n",
      "Epoch 39/40\n",
      "7/7 [==============================] - 5s 774ms/step - loss: 8.8029e-05 - accuracy: 1.0000 - val_loss: 0.1694 - val_accuracy: 0.9512\n",
      "Epoch 40/40\n",
      "7/7 [==============================] - 6s 825ms/step - loss: 6.8297e-05 - accuracy: 1.0000 - val_loss: 0.1833 - val_accuracy: 0.9512\n"
     ]
    }
   ],
   "source": [
    "history = model.fit(\n",
    "    train_generator,\n",
    "    validation_data=validation_generator,\n",
    "    epochs=40\n",
    ")"
   ]
  },
  {
   "cell_type": "code",
   "execution_count": 67,
   "id": "described-hospital",
   "metadata": {},
   "outputs": [
    {
     "name": "stdout",
     "output_type": "stream",
     "text": [
      "2/2 [==============================] - 1s 202ms/step - loss: 0.1833 - accuracy: 0.9512\n"
     ]
    },
    {
     "data": {
      "text/plain": [
       "[0.18332070112228394, 0.9512194991111755]"
      ]
     },
     "execution_count": 67,
     "metadata": {},
     "output_type": "execute_result"
    }
   ],
   "source": [
    "model.evaluate(validation_generator)"
   ]
  },
  {
   "cell_type": "code",
   "execution_count": 68,
   "id": "located-weather",
   "metadata": {},
   "outputs": [],
   "source": [
    "pre_trained_model = tf.keras.applications.InceptionV3(\n",
    "    include_top = False,\n",
    "    weights = \"imagenet\",\n",
    "    input_shape = (300, 300, 3)\n",
    ")"
   ]
  },
  {
   "cell_type": "code",
   "execution_count": 69,
   "id": "sporting-relative",
   "metadata": {},
   "outputs": [],
   "source": [
    "for layer in pre_trained_model.layers:\n",
    "    layer.trainable = False"
   ]
  },
  {
   "cell_type": "code",
   "execution_count": 70,
   "id": "quiet-parameter",
   "metadata": {},
   "outputs": [
    {
     "name": "stdout",
     "output_type": "stream",
     "text": [
      "last layer output shape:  (None, 8, 8, 2048)\n"
     ]
    }
   ],
   "source": [
    "last_layer = pre_trained_model.layers[-1]\n",
    "print('last layer output shape: ', last_layer.output_shape)\n",
    "last_output = last_layer.output"
   ]
  },
  {
   "cell_type": "code",
   "execution_count": 71,
   "id": "cutting-defensive",
   "metadata": {},
   "outputs": [],
   "source": [
    "# Flatten the output layer to 1 dimension\n",
    "x = tf.keras.layers.Flatten()(last_output)\n",
    "# Add a fully connected layer with 1,024 hidden units and ReLU activation\n",
    "x = tf.keras.layers.Dense(1024, activation='relu')(x)\n",
    "# Add a fully connected layer with 1,024 hidden units and ReLU activation\n",
    "x = tf.keras.layers.Dense(1024, activation='relu')(x)\n",
    "# Add a final softmax layer for classification\n",
    "x = tf.keras.layers.Dense(12, activation='softmax')(x)"
   ]
  },
  {
   "cell_type": "code",
   "execution_count": 72,
   "id": "through-agency",
   "metadata": {},
   "outputs": [],
   "source": [
    "model = tf.keras.models.Model(pre_trained_model.input, x)\n",
    "\n",
    "model.compile(optimizer=tf.keras.optimizers.RMSprop(lr=0.0001),\n",
    "              loss='categorical_crossentropy',\n",
    "              metrics=['accuracy'])"
   ]
  },
  {
   "cell_type": "code",
   "execution_count": 73,
   "id": "antique-sailing",
   "metadata": {},
   "outputs": [
    {
     "name": "stdout",
     "output_type": "stream",
     "text": [
      "Epoch 1/30\n",
      "7/7 [==============================] - 12s 1s/step - loss: 12.1526 - accuracy: 0.0993 - val_loss: 13.8844 - val_accuracy: 0.1707\n",
      "Epoch 2/30\n",
      "7/7 [==============================] - 6s 838ms/step - loss: 7.6840 - accuracy: 0.3996 - val_loss: 1.8458 - val_accuracy: 0.5366\n",
      "Epoch 3/30\n",
      "7/7 [==============================] - 6s 833ms/step - loss: 0.7725 - accuracy: 0.8264 - val_loss: 0.9087 - val_accuracy: 0.7805\n",
      "Epoch 4/30\n",
      "7/7 [==============================] - 6s 823ms/step - loss: 0.3896 - accuracy: 0.8489 - val_loss: 1.7343 - val_accuracy: 0.6829\n",
      "Epoch 5/30\n",
      "7/7 [==============================] - 6s 831ms/step - loss: 0.5976 - accuracy: 0.8589 - val_loss: 1.6466 - val_accuracy: 0.6585\n",
      "Epoch 6/30\n",
      "7/7 [==============================] - 6s 828ms/step - loss: 0.4453 - accuracy: 0.8940 - val_loss: 2.9258 - val_accuracy: 0.4634\n",
      "Epoch 7/30\n",
      "7/7 [==============================] - 6s 843ms/step - loss: 0.8671 - accuracy: 0.8506 - val_loss: 0.8328 - val_accuracy: 0.7317\n",
      "Epoch 8/30\n",
      "7/7 [==============================] - 6s 944ms/step - loss: 0.2045 - accuracy: 0.9460 - val_loss: 0.1454 - val_accuracy: 0.9268\n",
      "Epoch 9/30\n",
      "7/7 [==============================] - 6s 832ms/step - loss: 0.0108 - accuracy: 1.0000 - val_loss: 0.1615 - val_accuracy: 0.8780\n",
      "Epoch 10/30\n",
      "7/7 [==============================] - 6s 829ms/step - loss: 0.0031 - accuracy: 1.0000 - val_loss: 0.1238 - val_accuracy: 0.9268\n",
      "Epoch 11/30\n",
      "7/7 [==============================] - 6s 835ms/step - loss: 0.0017 - accuracy: 1.0000 - val_loss: 0.1193 - val_accuracy: 0.9512\n",
      "Epoch 12/30\n",
      "7/7 [==============================] - 6s 832ms/step - loss: 0.0016 - accuracy: 1.0000 - val_loss: 0.1136 - val_accuracy: 0.9512\n",
      "Epoch 13/30\n",
      "7/7 [==============================] - 6s 827ms/step - loss: 0.0013 - accuracy: 1.0000 - val_loss: 0.1296 - val_accuracy: 0.9268\n",
      "Epoch 14/30\n",
      "7/7 [==============================] - 6s 824ms/step - loss: 0.9270 - accuracy: 0.9057 - val_loss: 0.7259 - val_accuracy: 0.7317\n",
      "Epoch 15/30\n",
      "7/7 [==============================] - 6s 827ms/step - loss: 0.3392 - accuracy: 0.9054 - val_loss: 0.2612 - val_accuracy: 0.8780\n",
      "Epoch 16/30\n",
      "7/7 [==============================] - 6s 829ms/step - loss: 0.0047 - accuracy: 1.0000 - val_loss: 0.1796 - val_accuracy: 0.9268\n",
      "Epoch 17/30\n",
      "7/7 [==============================] - 6s 937ms/step - loss: 0.0014 - accuracy: 1.0000 - val_loss: 0.1874 - val_accuracy: 0.9024\n",
      "Epoch 18/30\n",
      "7/7 [==============================] - 6s 829ms/step - loss: 0.0012 - accuracy: 1.0000 - val_loss: 0.1696 - val_accuracy: 0.9024\n",
      "Epoch 19/30\n",
      "7/7 [==============================] - 6s 820ms/step - loss: 8.8701e-04 - accuracy: 1.0000 - val_loss: 0.1701 - val_accuracy: 0.9024\n",
      "Epoch 20/30\n",
      "7/7 [==============================] - 6s 825ms/step - loss: 7.8896e-04 - accuracy: 1.0000 - val_loss: 0.1541 - val_accuracy: 0.9024\n",
      "Epoch 21/30\n",
      "7/7 [==============================] - 6s 936ms/step - loss: 5.2529e-04 - accuracy: 1.0000 - val_loss: 0.1667 - val_accuracy: 0.9268\n",
      "Epoch 22/30\n",
      "7/7 [==============================] - 6s 833ms/step - loss: 4.1980e-04 - accuracy: 1.0000 - val_loss: 0.1314 - val_accuracy: 0.9268\n",
      "Epoch 23/30\n",
      "7/7 [==============================] - 6s 826ms/step - loss: 3.7747e-04 - accuracy: 1.0000 - val_loss: 0.1718 - val_accuracy: 0.9268\n",
      "Epoch 24/30\n",
      "7/7 [==============================] - 6s 849ms/step - loss: 2.6266e-04 - accuracy: 1.0000 - val_loss: 0.1566 - val_accuracy: 0.9268\n",
      "Epoch 25/30\n",
      "7/7 [==============================] - 6s 823ms/step - loss: 1.8816e-04 - accuracy: 1.0000 - val_loss: 0.1578 - val_accuracy: 0.9268\n",
      "Epoch 26/30\n",
      "7/7 [==============================] - 6s 815ms/step - loss: 0.0843 - accuracy: 0.9924 - val_loss: 7.5183 - val_accuracy: 0.5366\n",
      "Epoch 27/30\n",
      "7/7 [==============================] - 6s 829ms/step - loss: 2.6983 - accuracy: 0.7485 - val_loss: 1.3897 - val_accuracy: 0.8537\n",
      "Epoch 28/30\n",
      "7/7 [==============================] - 6s 826ms/step - loss: 0.3030 - accuracy: 0.9341 - val_loss: 0.1588 - val_accuracy: 0.9512\n",
      "Epoch 29/30\n",
      "7/7 [==============================] - 6s 814ms/step - loss: 5.5193e-04 - accuracy: 1.0000 - val_loss: 0.1679 - val_accuracy: 0.9268\n",
      "Epoch 30/30\n",
      "7/7 [==============================] - 6s 831ms/step - loss: 3.5924e-04 - accuracy: 1.0000 - val_loss: 0.1663 - val_accuracy: 0.9268\n"
     ]
    }
   ],
   "source": [
    "history = model.fit(\n",
    "    train_generator,\n",
    "    validation_data=validation_generator,\n",
    "#     batch_size=32,\n",
    "    epochs=30\n",
    ")"
   ]
  },
  {
   "cell_type": "code",
   "execution_count": 79,
   "id": "dominican-retirement",
   "metadata": {},
   "outputs": [
    {
     "name": "stdout",
     "output_type": "stream",
     "text": [
      "2/2 [==============================] - 1s 161ms/step - loss: 0.1663 - accuracy: 0.9268\n"
     ]
    },
    {
     "data": {
      "text/plain": [
       "[0.1662638634443283, 0.9268292784690857]"
      ]
     },
     "execution_count": 79,
     "metadata": {},
     "output_type": "execute_result"
    }
   ],
   "source": [
    "model.evaluate(validation_generator)"
   ]
  },
  {
   "cell_type": "code",
   "execution_count": 96,
   "id": "informed-distribution",
   "metadata": {},
   "outputs": [],
   "source": [
    "MODEL = random.choice(model_list)\n",
    "MODEL_DIR = os.path.join(VALIDATION_DIR, MODEL)\n",
    "WATCHES = os.listdir(MODEL_DIR)\n",
    "WATCH = random.choice(WATCHES)\n",
    "WATCH_DIR = os.path.join(MODEL_DIR, WATCH)"
   ]
  },
  {
   "cell_type": "code",
   "execution_count": 97,
   "id": "local-grammar",
   "metadata": {},
   "outputs": [],
   "source": [
    "img = image.load_img(WATCH_DIR, target_size=(300, 300))\n",
    "x = image.img_to_array(img)\n",
    "x = x / 255.\n",
    "x = np.expand_dims(x, axis=0)\n",
    "\n",
    "prediction = model.predict(x)"
   ]
  },
  {
   "cell_type": "code",
   "execution_count": 98,
   "id": "dominican-devices",
   "metadata": {},
   "outputs": [
    {
     "name": "stdout",
     "output_type": "stream",
     "text": [
      "Actual:\t\t16233\n",
      "Predicted:\t16233\n"
     ]
    },
    {
     "data": {
      "image/png": "[encoded data removed]",
      "text/plain": [
       "<Figure size 432x288 with 1 Axes>"
      ]
     },
     "metadata": {
      "needs_background": "light"
     },
     "output_type": "display_data"
    }
   ],
   "source": [
    "img_orig = cv2.imread(WATCH_DIR)[...,::-1]\n",
    "imgplot = plt.imshow(img_orig)\n",
    "print(f\"Actual:\\t\\t{MODEL}\\nPredicted:\\t{model_list[np.argmax(prediction)]}\")"
   ]
  },
  {
   "cell_type": "code",
   "execution_count": 83,
   "id": "deadly-dictionary",
   "metadata": {},
   "outputs": [
    {
     "name": "stdout",
     "output_type": "stream",
     "text": [
      "97.14\n"
     ]
    }
   ],
   "source": [
    "correct = 0\n",
    "n = 35\n",
    "\n",
    "for i in range(n):\n",
    "    MODEL = random.choice(model_list)\n",
    "    MODEL_DIR = os.path.join(VALIDATION_DIR, MODEL)\n",
    "    WATCHES = os.listdir(MODEL_DIR)\n",
    "    WATCH = random.choice(WATCHES)\n",
    "    WATCH_DIR = os.path.join(MODEL_DIR, WATCH)\n",
    "    \n",
    "    img = image.load_img(WATCH_DIR, target_size=(300, 300))\n",
    "    x = image.img_to_array(img) / 255.\n",
    "    x = np.expand_dims(x, axis=0)\n",
    "\n",
    "    prediction = model.predict(x)\n",
    "    \n",
    "    if MODEL == model_list[np.argmax(prediction)]:\n",
    "        correct += 1\n",
    "\n",
    "print(round(100 * correct/n, 2))"
   ]
  }
 ],
 "metadata": {
  "kernelspec": {
   "display_name": "Python 3",
   "language": "python",
   "name": "python3"
  },
  "language_info": {
   "codemirror_mode": {
    "name": "ipython",
    "version": 3
   },
   "file_extension": ".py",
   "mimetype": "text/x-python",
   "name": "python",
   "nbconvert_exporter": "python",
   "pygments_lexer": "ipython3",
   "version": "3.8.8"
  }
 },
 "nbformat": 4,
 "nbformat_minor": 5
}
