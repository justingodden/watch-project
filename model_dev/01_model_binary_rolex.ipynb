{
 "cells": [
  {
   "cell_type": "code",
   "execution_count": 1,
   "id": "collected-consideration",
   "metadata": {},
   "outputs": [],
   "source": [
    "import numpy as np\n",
    "import pandas as pd\n",
    "import matplotlib.pyplot as plt\n",
    "import os\n",
    "import shutil\n",
    "\n",
    "import tensorflow as tf\n",
    "from tensorflow.keras.preprocessing.image import ImageDataGenerator"
   ]
  },
  {
   "cell_type": "code",
   "execution_count": 2,
   "id": "perfect-probability",
   "metadata": {},
   "outputs": [],
   "source": [
    "np.random.seed(0)"
   ]
  },
  {
   "cell_type": "code",
   "execution_count": 4,
   "id": "hired-rebound",
   "metadata": {},
   "outputs": [],
   "source": [
    "df_orig = pd.read_csv('../wf_df_raw.csv')"
   ]
  },
  {
   "cell_type": "code",
   "execution_count": 5,
   "id": "smart-jewel",
   "metadata": {},
   "outputs": [],
   "source": [
    "df = df_orig.copy()"
   ]
  },
  {
   "cell_type": "code",
   "execution_count": 7,
   "id": "unknown-headset",
   "metadata": {},
   "outputs": [],
   "source": [
    "BASE_DIR = os.path.dirname(os.getcwd())\n",
    "\n",
    "RAW_IMGS_DIR = os.path.join(BASE_DIR, 'raw_images')\n",
    "\n",
    "IMAGES_DIR = os.path.join(BASE_DIR, 'Images')\n",
    "TRAINING_DIR = os.path.join(IMAGES_DIR, 'Training')\n",
    "VALIDATION_DIR = os.path.join(IMAGES_DIR, 'Validation')\n",
    "\n",
    "TRAIN_ROLEX_DIR = os.path.join(TRAINING_DIR, 'Rolex')\n",
    "TRAIN_NOT_ROLEX_DIR = os.path.join(TRAINING_DIR, 'Not_Rolex')\n",
    "VAL_ROLEX_DIR = os.path.join(VALIDATION_DIR, 'Rolex')\n",
    "VAL_NOT_ROLEX_DIR = os.path.join(VALIDATION_DIR, 'Not_Rolex')"
   ]
  },
  {
   "cell_type": "code",
   "execution_count": 23,
   "id": "governing-start",
   "metadata": {},
   "outputs": [],
   "source": [
    "try:\n",
    "    shutil.rmtree(IMAGES_DIR)\n",
    "except: pass\n",
    "\n",
    "os.mkdir(IMAGES_DIR)\n",
    "os.mkdir(TRAINING_DIR)\n",
    "os.mkdir(VALIDATION_DIR)\n",
    "\n",
    "os.mkdir(TRAIN_ROLEX_DIR)\n",
    "os.mkdir(TRAIN_NOT_ROLEX_DIR)\n",
    "os.mkdir(VAL_ROLEX_DIR)\n",
    "os.mkdir(VAL_NOT_ROLEX_DIR)"
   ]
  },
  {
   "cell_type": "code",
   "execution_count": 24,
   "id": "distant-white",
   "metadata": {},
   "outputs": [],
   "source": [
    "df = df.dropna(subset=['img_name'])"
   ]
  },
  {
   "cell_type": "code",
   "execution_count": 25,
   "id": "executive-blocking",
   "metadata": {},
   "outputs": [],
   "source": [
    "for index, row in df.iterrows():\n",
    "    \n",
    "    CURR_IMG_DIR = os.path.join(RAW_IMGS_DIR, row['img_name'])\n",
    "    \n",
    "    random_number = np.random.randint(1,101)\n",
    "    \n",
    "    if random_number <= 75 and row['brand'] == 'Rolex':\n",
    "        shutil.copy(CURR_IMG_DIR, TRAIN_ROLEX_DIR)\n",
    "    \n",
    "    elif random_number <= 75 and row['brand'] != 'Rolex':\n",
    "        shutil.copy(CURR_IMG_DIR, TRAIN_NOT_ROLEX_DIR)\n",
    "    \n",
    "    elif random_number > 75 and row['brand'] == 'Rolex':\n",
    "        shutil.copy(CURR_IMG_DIR, VAL_ROLEX_DIR)\n",
    "    \n",
    "    elif random_number > 75 and row['brand'] != 'Rolex':\n",
    "        shutil.copy(CURR_IMG_DIR, VAL_NOT_ROLEX_DIR)"
   ]
  },
  {
   "cell_type": "code",
   "execution_count": 26,
   "id": "threatened-method",
   "metadata": {},
   "outputs": [
    {
     "name": "stdout",
     "output_type": "stream",
     "text": [
      "Train Rolex num: 603\n",
      "Train Not Rolex num: 2743\n",
      "Val Rolex num: 191\n",
      "Val Not Rolex num: 931\n",
      "\n",
      "78.02\n",
      "79.48\n"
     ]
    }
   ],
   "source": [
    "print(f\"Train Rolex num: {len(os.listdir(TRAIN_ROLEX_DIR))}\")\n",
    "print(f\"Train Not Rolex num: {len(os.listdir(TRAIN_NOT_ROLEX_DIR))}\")\n",
    "print(f\"Val Rolex num: {len(os.listdir(VAL_ROLEX_DIR))}\")\n",
    "print(f\"Val Not Rolex num: {len(os.listdir(VAL_NOT_ROLEX_DIR))}\")\n",
    "print()\n",
    "print(round(100 * (1 - len(os.listdir(TRAIN_ROLEX_DIR)) / len(os.listdir(TRAIN_NOT_ROLEX_DIR))), 2))\n",
    "print(round(100 * (1 - len(os.listdir(VAL_ROLEX_DIR)) / len(os.listdir(VAL_NOT_ROLEX_DIR))), 2))"
   ]
  },
  {
   "cell_type": "code",
   "execution_count": 27,
   "id": "integral-picking",
   "metadata": {},
   "outputs": [
    {
     "name": "stdout",
     "output_type": "stream",
     "text": [
      "Found 3346 images belonging to 2 classes.\n"
     ]
    }
   ],
   "source": [
    "train_datagen = ImageDataGenerator(rescale=1/255)\n",
    "\n",
    "train_generator = train_datagen.flow_from_directory(\n",
    "    TRAINING_DIR,\n",
    "    target_size=(300, 300),\n",
    "    class_mode='binary'\n",
    ")"
   ]
  },
  {
   "cell_type": "code",
   "execution_count": 31,
   "id": "objective-tulsa",
   "metadata": {},
   "outputs": [
    {
     "name": "stdout",
     "output_type": "stream",
     "text": [
      "Found 1122 images belonging to 2 classes.\n"
     ]
    }
   ],
   "source": [
    "validation_datagen = ImageDataGenerator(rescale=1/255)\n",
    "\n",
    "validation_generator = train_datagen.flow_from_directory(\n",
    "    VALIDATION_DIR,\n",
    "    target_size=(300, 300),\n",
    "    class_mode='binary'\n",
    ")"
   ]
  },
  {
   "cell_type": "code",
   "execution_count": 32,
   "id": "biblical-ethnic",
   "metadata": {},
   "outputs": [],
   "source": [
    "model = tf.keras.models.Sequential([\n",
    "    tf.keras.layers.Conv2D(16, (3,3), activation='relu',\n",
    "                           input_shape=(300, 300, 3)),\n",
    "    tf.keras.layers.MaxPooling2D(2, 2),\n",
    "    tf.keras.layers.Conv2D(32, (3,3), activation='relu'),\n",
    "    tf.keras.layers.MaxPooling2D(2,2),\n",
    "    tf.keras.layers.Conv2D(64, (3,3), activation='relu'),\n",
    "    tf.keras.layers.MaxPooling2D(2,2),\n",
    "    tf.keras.layers.Conv2D(64, (3,3), activation='relu'),\n",
    "    tf.keras.layers.MaxPooling2D(2,2),\n",
    "    tf.keras.layers.Conv2D(64, (3,3), activation='relu'),\n",
    "    tf.keras.layers.MaxPooling2D(2,2),\n",
    "    tf.keras.layers.Flatten(),\n",
    "    tf.keras.layers.Dense(512, activation='relu'),\n",
    "    tf.keras.layers.Dense(1, activation='sigmoid')\n",
    "])"
   ]
  },
  {
   "cell_type": "code",
   "execution_count": 33,
   "id": "confirmed-theme",
   "metadata": {},
   "outputs": [],
   "source": [
    "model.compile(loss='binary_crossentropy',\n",
    "              optimizer=tf.keras.optimizers.RMSprop(lr=0.001),\n",
    "              metrics=['accuracy'])"
   ]
  },
  {
   "cell_type": "code",
   "execution_count": 37,
   "id": "gorgeous-ordinary",
   "metadata": {
    "tags": []
   },
   "outputs": [
    {
     "name": "stdout",
     "output_type": "stream",
     "text": [
      "Epoch 1/5\n",
      "105/105 [==============================] - 101s 968ms/step - loss: 0.1828 - accuracy: 0.9325 - val_loss: 0.1396 - val_accuracy: 0.9474\n",
      "Epoch 2/5\n",
      "105/105 [==============================] - 99s 948ms/step - loss: 0.1157 - accuracy: 0.9597 - val_loss: 0.0989 - val_accuracy: 0.9679\n",
      "Epoch 3/5\n",
      "105/105 [==============================] - 99s 949ms/step - loss: 0.0685 - accuracy: 0.9767 - val_loss: 0.1007 - val_accuracy: 0.9635\n",
      "Epoch 4/5\n",
      "105/105 [==============================] - 100s 950ms/step - loss: 0.0773 - accuracy: 0.9839 - val_loss: 0.0858 - val_accuracy: 0.9670\n",
      "Epoch 5/5\n",
      "105/105 [==============================] - 101s 964ms/step - loss: 0.0288 - accuracy: 0.9913 - val_loss: 0.0239 - val_accuracy: 0.9893\n"
     ]
    }
   ],
   "source": [
    "history = model.fit(\n",
    "    train_generator,\n",
    "    validation_data=validation_generator,\n",
    "    epochs=5\n",
    ")"
   ]
  },
  {
   "cell_type": "code",
   "execution_count": 38,
   "id": "residential-friendship",
   "metadata": {},
   "outputs": [
    {
     "name": "stdout",
     "output_type": "stream",
     "text": [
      "** Path: E:\\Coding\\Python\\watchfinder\\Images\\Training\\Rolex\\999.jpg  *** ***\r"
     ]
    }
   ],
   "source": [
    "from PIL import Image\n",
    "\n",
    "folder_path = TRAINING_DIR\n",
    "extensions = ['.jpg']\n",
    "for fldr in os.listdir(folder_path):\n",
    "    sub_folder_path = os.path.join(folder_path, fldr)\n",
    "    for filee in os.listdir(sub_folder_path):\n",
    "        file_path = os.path.join(sub_folder_path, filee)\n",
    "        print('** Path: {}  **'.format(file_path), end=\"\\r\", flush=True)\n",
    "        im = Image.open(file_path)\n",
    "        rgb_im = im.convert('RGB')\n",
    "        if filee.split('.')[1] not in extensions:\n",
    "            extensions.append(filee.split('.')[1])"
   ]
  }
 ],
 "metadata": {
  "kernelspec": {
   "display_name": "Python 3",
   "language": "python",
   "name": "python3"
  },
  "language_info": {
   "codemirror_mode": {
    "name": "ipython",
    "version": 3
   },
   "file_extension": ".py",
   "mimetype": "text/x-python",
   "name": "python",
   "nbconvert_exporter": "python",
   "pygments_lexer": "ipython3",
   "version": "3.8.8"
  }
 },
 "nbformat": 4,
 "nbformat_minor": 5
}
