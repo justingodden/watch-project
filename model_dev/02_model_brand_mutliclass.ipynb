{
 "cells": [
  {
   "cell_type": "code",
   "execution_count": 188,
   "id": "failing-franchise",
   "metadata": {},
   "outputs": [],
   "source": [
    "import numpy as np\n",
    "import pandas as pd\n",
    "import matplotlib.pyplot as plt\n",
    "import os\n",
    "import shutil\n",
    "import random\n",
    "\n",
    "import tensorflow as tf\n",
    "from tensorflow.keras.preprocessing import image\n",
    "from tensorflow.keras.preprocessing.image import ImageDataGenerator\n",
    "import matplotlib.image as mpimg\n",
    "import cv2"
   ]
  },
  {
   "cell_type": "code",
   "execution_count": 2,
   "id": "strategic-dynamics",
   "metadata": {},
   "outputs": [],
   "source": [
    "np.random.seed(0)"
   ]
  },
  {
   "cell_type": "code",
   "execution_count": 3,
   "id": "united-heart",
   "metadata": {},
   "outputs": [],
   "source": [
    "df_orig = pd.read_csv('../wf_df_raw.csv')"
   ]
  },
  {
   "cell_type": "code",
   "execution_count": 4,
   "id": "acknowledged-bones",
   "metadata": {},
   "outputs": [],
   "source": [
    "df = df_orig.copy()"
   ]
  },
  {
   "cell_type": "code",
   "execution_count": 5,
   "id": "distant-stress",
   "metadata": {},
   "outputs": [],
   "source": [
    "df = df.dropna(subset=['img_name'])"
   ]
  },
  {
   "cell_type": "code",
   "execution_count": 74,
   "id": "transsexual-making",
   "metadata": {},
   "outputs": [],
   "source": [
    "df['brand'] = df['brand'].map(lambda x: x.replace(' ', '_'))"
   ]
  },
  {
   "cell_type": "code",
   "execution_count": 75,
   "id": "southern-glory",
   "metadata": {},
   "outputs": [],
   "source": [
    "brand_list = list(df['brand'].value_counts()[:5].index)"
   ]
  },
  {
   "cell_type": "code",
   "execution_count": 76,
   "id": "sufficient-procedure",
   "metadata": {},
   "outputs": [],
   "source": [
    "brand_list.sort()"
   ]
  },
  {
   "cell_type": "code",
   "execution_count": 8,
   "id": "willing-folder",
   "metadata": {},
   "outputs": [],
   "source": [
    "BASE_DIR = os.path.dirname(os.getcwd())\n",
    "\n",
    "RAW_IMGS_DIR = os.path.join(BASE_DIR, 'raw_images')\n",
    "\n",
    "IMAGES_DIR = os.path.join(BASE_DIR, 'Images')\n",
    "TRAINING_DIR = os.path.join(IMAGES_DIR, 'Training')\n",
    "VALIDATION_DIR = os.path.join(IMAGES_DIR, 'Validation')"
   ]
  },
  {
   "cell_type": "code",
   "execution_count": 9,
   "id": "thermal-thumb",
   "metadata": {},
   "outputs": [],
   "source": [
    "try:\n",
    "    shutil.rmtree(IMAGES_DIR)\n",
    "except: pass\n",
    "\n",
    "os.mkdir(IMAGES_DIR)\n",
    "os.mkdir(TRAINING_DIR)\n",
    "os.mkdir(VALIDATION_DIR)"
   ]
  },
  {
   "cell_type": "code",
   "execution_count": 10,
   "id": "supposed-brake",
   "metadata": {},
   "outputs": [],
   "source": [
    "for brand in brand_list:\n",
    "    os.mkdir(os.path.join(TRAINING_DIR, brand))\n",
    "    os.mkdir(os.path.join(VALIDATION_DIR, brand))"
   ]
  },
  {
   "cell_type": "code",
   "execution_count": 11,
   "id": "little-might",
   "metadata": {},
   "outputs": [],
   "source": [
    "for index, row in df.iterrows():\n",
    "    \n",
    "    CURR_IMG_DIR = os.path.join(RAW_IMGS_DIR, row['img_name'])\n",
    "    \n",
    "    random_number = np.random.randint(1,101)\n",
    "    \n",
    "    if row['brand'] in brand_list and random_number <= 80:\n",
    "        shutil.copy(CURR_IMG_DIR, os.path.join(TRAINING_DIR, row['brand']))\n",
    "        \n",
    "    elif row['brand'] in brand_list and random_number > 80:\n",
    "        shutil.copy(CURR_IMG_DIR, os.path.join(VALIDATION_DIR, row['brand']))"
   ]
  },
  {
   "cell_type": "code",
   "execution_count": 12,
   "id": "sensitive-salmon",
   "metadata": {},
   "outputs": [
    {
     "name": "stdout",
     "output_type": "stream",
     "text": [
      "Found 1964 images belonging to 5 classes.\n"
     ]
    }
   ],
   "source": [
    "train_datagen = ImageDataGenerator(rescale=1/255)\n",
    "\n",
    "train_generator = train_datagen.flow_from_directory(\n",
    "    TRAINING_DIR,\n",
    "    target_size=(300, 300),\n",
    "    batch_size=32,\n",
    "    class_mode='categorical'\n",
    ")"
   ]
  },
  {
   "cell_type": "code",
   "execution_count": 13,
   "id": "downtown-consideration",
   "metadata": {},
   "outputs": [
    {
     "name": "stdout",
     "output_type": "stream",
     "text": [
      "Found 489 images belonging to 5 classes.\n"
     ]
    }
   ],
   "source": [
    "validation_datagen = ImageDataGenerator(rescale=1/255)\n",
    "\n",
    "validation_generator = train_datagen.flow_from_directory(\n",
    "    VALIDATION_DIR,\n",
    "    target_size=(300, 300),\n",
    "    batch_size=32,\n",
    "    class_mode='categorical'\n",
    ")"
   ]
  },
  {
   "cell_type": "code",
   "execution_count": 14,
   "id": "concerned-roberts",
   "metadata": {},
   "outputs": [],
   "source": [
    "model = tf.keras.models.Sequential([\n",
    "    tf.keras.layers.Conv2D(16, (3,3), activation='relu',\n",
    "                           input_shape=(300, 300, 3)),\n",
    "    tf.keras.layers.MaxPooling2D(2, 2),\n",
    "    tf.keras.layers.Conv2D(32, (3,3), activation='relu'),\n",
    "    tf.keras.layers.MaxPooling2D(2,2),\n",
    "    tf.keras.layers.Conv2D(64, (3,3), activation='relu'),\n",
    "    tf.keras.layers.MaxPooling2D(2,2),\n",
    "    tf.keras.layers.Conv2D(64, (3,3), activation='relu'),\n",
    "    tf.keras.layers.MaxPooling2D(2,2),\n",
    "    tf.keras.layers.Conv2D(64, (3,3), activation='relu'),\n",
    "    tf.keras.layers.MaxPooling2D(2,2),\n",
    "    tf.keras.layers.Flatten(),\n",
    "    tf.keras.layers.Dense(512, activation='relu'),\n",
    "    tf.keras.layers.Dense(5, activation='softmax')\n",
    "])"
   ]
  },
  {
   "cell_type": "code",
   "execution_count": 15,
   "id": "beautiful-mount",
   "metadata": {},
   "outputs": [],
   "source": [
    "model.compile(loss='categorical_crossentropy',\n",
    "              optimizer=tf.keras.optimizers.RMSprop(lr=0.001),\n",
    "              metrics=['accuracy'])"
   ]
  },
  {
   "cell_type": "code",
   "execution_count": 16,
   "id": "elegant-ready",
   "metadata": {
    "tags": []
   },
   "outputs": [
    {
     "name": "stdout",
     "output_type": "stream",
     "text": [
      "Epoch 1/5\n",
      "62/62 [==============================] - 66s 1s/step - loss: 1.6423 - accuracy: 0.2918 - val_loss: 1.2724 - val_accuracy: 0.4990\n",
      "Epoch 2/5\n",
      "62/62 [==============================] - 56s 906ms/step - loss: 1.1565 - accuracy: 0.5621 - val_loss: 0.8851 - val_accuracy: 0.6605\n",
      "Epoch 3/5\n",
      "62/62 [==============================] - 54s 874ms/step - loss: 0.7673 - accuracy: 0.7135 - val_loss: 0.5546 - val_accuracy: 0.7996\n",
      "Epoch 4/5\n",
      "62/62 [==============================] - 54s 875ms/step - loss: 0.4780 - accuracy: 0.8223 - val_loss: 0.6369 - val_accuracy: 0.7812\n",
      "Epoch 5/5\n",
      "62/62 [==============================] - 54s 874ms/step - loss: 0.3460 - accuracy: 0.8808 - val_loss: 0.5057 - val_accuracy: 0.8282\n"
     ]
    }
   ],
   "source": [
    "history = model.fit(\n",
    "    train_generator,\n",
    "    validation_data=validation_generator,\n",
    "    epochs=5\n",
    ")"
   ]
  },
  {
   "cell_type": "code",
   "execution_count": 25,
   "id": "simple-radio",
   "metadata": {},
   "outputs": [
    {
     "name": "stdout",
     "output_type": "stream",
     "text": [
      "Downloading data from https://storage.googleapis.com/tensorflow/keras-applications/inception_v3/inception_v3_weights_tf_dim_ordering_tf_kernels_notop.h5\n",
      "87916544/87910968 [==============================] - 12s 0us/step\n"
     ]
    }
   ],
   "source": [
    "pre_trained_model = tf.keras.applications.InceptionV3(\n",
    "    include_top = False,\n",
    "    weights = \"imagenet\",\n",
    "    input_shape = (300, 300, 3)\n",
    ")"
   ]
  },
  {
   "cell_type": "code",
   "execution_count": 26,
   "id": "detailed-retro",
   "metadata": {},
   "outputs": [],
   "source": [
    "for layer in pre_trained_model.layers:\n",
    "    layer.trainable = False"
   ]
  },
  {
   "cell_type": "code",
   "execution_count": 27,
   "id": "loved-haven",
   "metadata": {},
   "outputs": [
    {
     "name": "stdout",
     "output_type": "stream",
     "text": [
      "last layer output shape:  (None, 8, 8, 2048)\n"
     ]
    }
   ],
   "source": [
    "last_layer = pre_trained_model.layers[-1]\n",
    "print('last layer output shape: ', last_layer.output_shape)\n",
    "last_output = last_layer.output"
   ]
  },
  {
   "cell_type": "code",
   "execution_count": 28,
   "id": "saved-savannah",
   "metadata": {},
   "outputs": [],
   "source": [
    "# Flatten the output layer to 1 dimension\n",
    "x = tf.keras.layers.Flatten()(last_output)\n",
    "# Add a fully connected layer with 1,024 hidden units and ReLU activation\n",
    "x = tf.keras.layers.Dense(1024, activation='relu')(x)\n",
    "# Add a final sigmoid layer for classification\n",
    "x = tf.keras.layers.Dense(5, activation='softmax')(x)"
   ]
  },
  {
   "cell_type": "code",
   "execution_count": 29,
   "id": "accessory-residence",
   "metadata": {},
   "outputs": [],
   "source": [
    "model = tf.keras.models.Model(pre_trained_model.input, x)\n",
    "\n",
    "model.compile(optimizer=tf.keras.optimizers.RMSprop(lr=0.0001),\n",
    "              loss='categorical_crossentropy',\n",
    "              metrics=['accuracy'])"
   ]
  },
  {
   "cell_type": "code",
   "execution_count": 30,
   "id": "growing-cambodia",
   "metadata": {},
   "outputs": [
    {
     "name": "stdout",
     "output_type": "stream",
     "text": [
      "Epoch 1/15\n",
      "62/62 [==============================] - 62s 927ms/step - loss: 13.8038 - accuracy: 0.4165 - val_loss: 1.2090 - val_accuracy: 0.6994\n",
      "Epoch 2/15\n",
      "62/62 [==============================] - 55s 892ms/step - loss: 1.5151 - accuracy: 0.7524 - val_loss: 0.7442 - val_accuracy: 0.8609\n",
      "Epoch 3/15\n",
      "62/62 [==============================] - 56s 911ms/step - loss: 0.6634 - accuracy: 0.8600 - val_loss: 0.2518 - val_accuracy: 0.9387\n",
      "Epoch 4/15\n",
      "62/62 [==============================] - 56s 909ms/step - loss: 0.6676 - accuracy: 0.8867 - val_loss: 3.5253 - val_accuracy: 0.6401\n",
      "Epoch 5/15\n",
      "62/62 [==============================] - 56s 902ms/step - loss: 0.4163 - accuracy: 0.9424 - val_loss: 0.2638 - val_accuracy: 0.9530\n",
      "Epoch 6/15\n",
      "62/62 [==============================] - 56s 899ms/step - loss: 0.2844 - accuracy: 0.9621 - val_loss: 0.3277 - val_accuracy: 0.9387\n",
      "Epoch 7/15\n",
      "62/62 [==============================] - 57s 917ms/step - loss: 0.2427 - accuracy: 0.9649 - val_loss: 0.2847 - val_accuracy: 0.9550\n",
      "Epoch 8/15\n",
      "62/62 [==============================] - 55s 884ms/step - loss: 0.0832 - accuracy: 0.9911 - val_loss: 0.3676 - val_accuracy: 0.9427\n",
      "Epoch 9/15\n",
      "62/62 [==============================] - 54s 867ms/step - loss: 0.2116 - accuracy: 0.9742 - val_loss: 1.7434 - val_accuracy: 0.8160\n",
      "Epoch 10/15\n",
      "62/62 [==============================] - 55s 885ms/step - loss: 0.0850 - accuracy: 0.9843 - val_loss: 0.3314 - val_accuracy: 0.9427\n",
      "Epoch 11/15\n",
      "62/62 [==============================] - 55s 895ms/step - loss: 0.0013 - accuracy: 1.0000 - val_loss: 0.2790 - val_accuracy: 0.9530\n",
      "Epoch 12/15\n",
      "62/62 [==============================] - 55s 881ms/step - loss: 0.3909 - accuracy: 0.9666 - val_loss: 0.4034 - val_accuracy: 0.9489\n",
      "Epoch 13/15\n",
      "62/62 [==============================] - 54s 876ms/step - loss: 0.0084 - accuracy: 0.9972 - val_loss: 0.5003 - val_accuracy: 0.9243\n",
      "Epoch 14/15\n",
      "62/62 [==============================] - 55s 884ms/step - loss: 0.0031 - accuracy: 0.9981 - val_loss: 0.3226 - val_accuracy: 0.9509\n",
      "Epoch 15/15\n",
      "62/62 [==============================] - 54s 876ms/step - loss: 0.1635 - accuracy: 0.9844 - val_loss: 0.3567 - val_accuracy: 0.9550\n"
     ]
    }
   ],
   "source": [
    "history = model.fit(\n",
    "    train_generator,\n",
    "    validation_data=validation_generator,\n",
    "    batch_size=32,\n",
    "    epochs=15\n",
    ")"
   ]
  },
  {
   "cell_type": "code",
   "execution_count": 163,
   "id": "imperial-minneapolis",
   "metadata": {},
   "outputs": [
    {
     "name": "stdout",
     "output_type": "stream",
     "text": [
      "16/16 [==============================] - 11s 664ms/step - loss: 0.3567 - accuracy: 0.9550\n"
     ]
    },
    {
     "data": {
      "text/plain": [
       "[0.35669082403182983, 0.9550102353096008]"
      ]
     },
     "execution_count": 163,
     "metadata": {},
     "output_type": "execute_result"
    }
   ],
   "source": [
    "model.evaluate(validation_generator)"
   ]
  },
  {
   "cell_type": "code",
   "execution_count": 220,
   "id": "critical-bread",
   "metadata": {},
   "outputs": [],
   "source": [
    "BRAND = random.choice(brand_list)\n",
    "BRAND_DIR = os.path.join(VALIDATION_DIR, BRAND)\n",
    "WATCHES = os.listdir(BRAND_DIR)\n",
    "WATCH = random.choice(WATCHES)\n",
    "WATCH_DIR = os.path.join(BRAND_DIR, WATCH)"
   ]
  },
  {
   "cell_type": "code",
   "execution_count": 221,
   "id": "behind-boating",
   "metadata": {},
   "outputs": [],
   "source": [
    "img = image.load_img(WATCH_DIR, target_size=(300, 300))\n",
    "x = image.img_to_array(img)\n",
    "x = np.expand_dims(x, axis=0)\n",
    "\n",
    "prediction = model.predict(x)"
   ]
  },
  {
   "cell_type": "code",
   "execution_count": 222,
   "id": "insured-order",
   "metadata": {},
   "outputs": [
    {
     "name": "stdout",
     "output_type": "stream",
     "text": [
      "Actual:\t\tOmega\n",
      "Predicted:\tBreitling\n"
     ]
    },
    {
     "data": {
      "image/png": "[encoded data removed]",
      "text/plain": [
       "<Figure size 432x288 with 1 Axes>"
      ]
     },
     "metadata": {
      "needs_background": "light"
     },
     "output_type": "display_data"
    }
   ],
   "source": [
    "img_orig = cv2.imread(WATCH_DIR)[...,::-1]\n",
    "imgplot = plt.imshow(img_orig)\n",
    "print(f\"Actual:\\t\\t{BRAND}\\nPredicted:\\t{brand_list[np.argmax(prediction[0])]}\")"
   ]
  },
  {
   "cell_type": "code",
   "execution_count": 218,
   "id": "integral-sentence",
   "metadata": {},
   "outputs": [
    {
     "name": "stdout",
     "output_type": "stream",
     "text": [
      "0.19\n"
     ]
    }
   ],
   "source": [
    "correct = 0\n",
    "n = 200\n",
    "\n",
    "for i in range(n):\n",
    "    BRAND = random.choice(brand_list)\n",
    "    BRAND_DIR = os.path.join(VALIDATION_DIR, BRAND)\n",
    "    WATCHES = os.listdir(BRAND_DIR)\n",
    "    WATCH = random.choice(WATCHES)\n",
    "    WATCH_DIR = os.path.join(BRAND_DIR, WATCH)\n",
    "    \n",
    "    img = image.load_img(WATCH_DIR, target_size=(300, 300))\n",
    "    x = image.img_to_array(img)\n",
    "    x = np.expand_dims(x, axis=0)\n",
    "\n",
    "    prediction = model.predict(x)\n",
    "    \n",
    "    if BRAND == brand_list[np.argmax(prediction[0])]:\n",
    "        correct += 1\n",
    "\n",
    "print(round(100 * correct/n, 2))"
   ]
  }
 ],
 "metadata": {
  "kernelspec": {
   "display_name": "Python 3",
   "language": "python",
   "name": "python3"
  },
  "language_info": {
   "codemirror_mode": {
    "name": "ipython",
    "version": 3
   },
   "file_extension": ".py",
   "mimetype": "text/x-python",
   "name": "python",
   "nbconvert_exporter": "python",
   "pygments_lexer": "ipython3",
   "version": "3.8.8"
  }
 },
 "nbformat": 4,
 "nbformat_minor": 5
}
