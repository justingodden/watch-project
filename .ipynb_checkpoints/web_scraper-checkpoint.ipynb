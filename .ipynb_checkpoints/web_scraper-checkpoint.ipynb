{
 "cells": [
  {
   "cell_type": "code",
   "execution_count": null,
   "id": "offshore-extension",
   "metadata": {},
   "outputs": [],
   "source": [
    "# Standard data analysis libraries\n",
    "import pandas as pd\n",
    "\n",
    "# Web scraping libraries\n",
    "from urllib.request import urlopen, Request\n",
    "from urllib.error import HTTPError, URLError\n",
    "import requests\n",
    "from bs4 import BeautifulSoup\n",
    "import os"
   ]
  },
  {
   "cell_type": "code",
   "execution_count": null,
   "id": "behavioral-mailing",
   "metadata": {},
   "outputs": [],
   "source": [
    "URL_ALL_WATCHES = r\"https://www.watchfinder.co.uk/all-watches?orderby=BestMatch&pageno=\"\n",
    "URL_BASE = r\"https://www.watchfinder.co.uk\""
   ]
  },
  {
   "cell_type": "code",
   "execution_count": null,
   "id": "returning-pantyhose",
   "metadata": {},
   "outputs": [],
   "source": [
    "keys = ['id',\n",
    "        'brand',\n",
    "        'series',\n",
    "        'model',\n",
    "        'price',\n",
    "        'Year',\n",
    "        'Box',\n",
    "        'Papers',\n",
    "        'Manufacturer warranty',\n",
    "        'Watchfinder warranty',\n",
    "        'Availability',\n",
    "        'Delivery',\n",
    "        'Returns policy',\n",
    "        'Product code',\n",
    "        'Movement',\n",
    "        'Case size',\n",
    "        'Case material',\n",
    "        'Bracelet material',\n",
    "        'Dial type',\n",
    "        'Water resistance',\n",
    "        'Location',\n",
    "        'img_name']"
   ]
  },
  {
   "cell_type": "code",
   "execution_count": null,
   "id": "retired-brake",
   "metadata": {},
   "outputs": [],
   "source": [
    "def g(i):\n",
    "    headers = {'User-Agent': 'Mozilla/5.0'}\n",
    "    req = Request(URL_ALL_WATCHES + i, headers=headers)\n",
    "    html = urlopen(req)\n",
    "    bs = BeautifulSoup(html.read(), 'html.parser')\n",
    "    \n",
    "    a_tags = bs.find_all('a', {'class': 'prods_name redirect'})\n",
    "    \n",
    "    urls = []\n",
    "    \n",
    "    for i in range(len(a_tags)):\n",
    "        urls.append(a_tags[i].attrs['href'])\n",
    "        \n",
    "    for i in range(len(urls)):\n",
    "        urls[i] = urls[i].replace(' ', '%20')\n",
    "    \n",
    "    return urls"
   ]
  },
  {
   "cell_type": "code",
   "execution_count": null,
   "id": "palestinian-louisville",
   "metadata": {},
   "outputs": [],
   "source": [
    "%%time\n",
    "\n",
    "urls = []\n",
    "for i in range(1, 115):\n",
    "    urls = urls + g(str(i))"
   ]
  },
  {
   "cell_type": "code",
   "execution_count": null,
   "id": "chubby-causing",
   "metadata": {},
   "outputs": [],
   "source": [
    "for i in range(len(urls)):\n",
    "    if urls[i].find('é') > 1:\n",
    "        urls[i] = urls[i].replace('é', '\\\\xe9')"
   ]
  },
  {
   "cell_type": "code",
   "execution_count": null,
   "id": "inappropriate-manitoba",
   "metadata": {},
   "outputs": [],
   "source": [
    "def f(url, idx):\n",
    "    headers = {'User-Agent': 'Mozilla/5.0'}\n",
    "    req = Request(url, headers=headers)\n",
    "    html = urlopen(req)\n",
    "    bs = BeautifulSoup(html.read(), 'html.parser')\n",
    "    \n",
    "    table_data = bs.find_all('tr')\n",
    "    \n",
    "    watches_dict = {}\n",
    "\n",
    "    for key in keys:\n",
    "        watches_dict[key] = None\n",
    "    \n",
    "    watches_dict['id'] = idx\n",
    "    \n",
    "    for i in range(len(table_data)):\n",
    "\n",
    "        if len(list(table_data[i])) == 5:\n",
    "\n",
    "            if list(table_data[i])[1].find('div'):\n",
    "                key = list(list(table_data[i])[1].find('div'))[0]            \n",
    "                value = list(list(table_data[i])[3])[0]\n",
    "\n",
    "                watches_dict[key] = value\n",
    "\n",
    "            else:\n",
    "                key = list(list(table_data[i])[1])[0]            \n",
    "                value = list(list(table_data[i])[3])[0]\n",
    "\n",
    "                watches_dict[key] = value\n",
    "                \n",
    "    brand = list(bs.find('span', {'class': 'prod_brand ellipsis'}))[0]\n",
    "    series = list(bs.find('span', {'class': 'prod_series ellipsis'}))[0]\n",
    "    model = list(bs.find('span', {'class': 'prod_model ellipsis'}))[0]\n",
    "    price = bs.find('meta', {'itemprop': 'price'}).attrs['content']\n",
    "    \n",
    "    watches_dict['brand'] = brand\n",
    "    watches_dict['series'] = series\n",
    "    watches_dict['model'] = model\n",
    "    watches_dict['price'] = price\n",
    "    \n",
    "    try:\n",
    "        image = bs.find('meta', {'itemprop': 'image'})\n",
    "        img_url = image.attrs['content']\n",
    "        img_name = idx + '.jpg'\n",
    "        watches_dict['img_name'] = img_name\n",
    "        save_path = os.path.join('./images/', img_name)\n",
    "        with open(save_path, 'wb') as handle:\n",
    "                response = requests.get(img_url, stream=True)\n",
    "\n",
    "                if not response.ok:\n",
    "                    print(response)\n",
    "\n",
    "                for block in response.iter_content(1024):\n",
    "                    if not block:\n",
    "                        break\n",
    "\n",
    "                    handle.write(block)\n",
    "        \n",
    "    except:\n",
    "        pass\n",
    "        \n",
    "    return watches_dict"
   ]
  },
  {
   "cell_type": "code",
   "execution_count": null,
   "id": "ambient-weather",
   "metadata": {},
   "outputs": [],
   "source": [
    "%%time\n",
    "\n",
    "dicts = []\n",
    "\n",
    "for idx in range(len(urls)):\n",
    "    \n",
    "    try:\n",
    "        dicts.append(f(URL_BASE + urls[i], idx))\n",
    "        \n",
    "    except Exception as e:\n",
    "        print(url)\n",
    "        print(e)"
   ]
  },
  {
   "cell_type": "code",
   "execution_count": null,
   "id": "about-suspension",
   "metadata": {},
   "outputs": [],
   "source": [
    "big_dict = {}\n",
    "\n",
    "for k in dicts[0]:\n",
    "    big_dict[k] = [d[k] for d in dicts]"
   ]
  },
  {
   "cell_type": "code",
   "execution_count": null,
   "id": "anticipated-authorization",
   "metadata": {},
   "outputs": [],
   "source": [
    "df = pd.DataFrame.from_dict(big_dict)"
   ]
  },
  {
   "cell_type": "code",
   "execution_count": null,
   "id": "bigger-dairy",
   "metadata": {},
   "outputs": [],
   "source": [
    "df.to_csv('wf_df_raw.csv')"
   ]
  },
  {
   "cell_type": "code",
   "execution_count": null,
   "id": "second-librarian",
   "metadata": {},
   "outputs": [],
   "source": [
    "# df = pd.read_csv('wf_df_raw.csv')"
   ]
  },
  {
   "cell_type": "code",
   "execution_count": null,
   "id": "wooden-champion",
   "metadata": {},
   "outputs": [],
   "source": []
  }
 ],
 "metadata": {
  "kernelspec": {
   "display_name": "Python 3",
   "language": "python",
   "name": "python3"
  },
  "language_info": {
   "codemirror_mode": {
    "name": "ipython",
    "version": 3
   },
   "file_extension": ".py",
   "mimetype": "text/x-python",
   "name": "python",
   "nbconvert_exporter": "python",
   "pygments_lexer": "ipython3",
   "version": "3.8.5"
  }
 },
 "nbformat": 4,
 "nbformat_minor": 5
}
