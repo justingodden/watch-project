{
 "cells": [
  {
   "cell_type": "code",
   "execution_count": 1,
   "id": "political-ability",
   "metadata": {},
   "outputs": [],
   "source": [
    "# Standard data analysis libraries\n",
    "import numpy as np\n",
    "import pandas as pd\n",
    "import matplotlib.pyplot as plt\n",
    "import matplotlib as mpl\n",
    "import seaborn as sns\n",
    "\n",
    "# Web scraping libraries\n",
    "from urllib.request import urlopen, Request\n",
    "from urllib.error import HTTPError, URLError\n",
    "import requests\n",
    "import bs4\n",
    "\n",
    "from bs4 import BeautifulSoup\n",
    "import re\n",
    "import os\n",
    "from os.path import basename\n",
    "\n",
    "# Some styling\n",
    "%matplotlib inline\n",
    "plt.style.use('fivethirtyeight')\n",
    "mpl.rcParams['figure.figsize'] = (14, 8)\n",
    "plt.rc('axes', titlesize=22) \n",
    "plt.rc('figure', titlesize=22)\n",
    "plt.rc('legend', fontsize=14)\n",
    "plt.rc('xtick', labelsize=14)\n",
    "plt.rc('ytick', labelsize=14)\n",
    "plt.rc('axes', labelsize=14)\n"
   ]
  },
  {
   "cell_type": "code",
   "execution_count": 2,
   "id": "national-certification",
   "metadata": {},
   "outputs": [],
   "source": [
    "URL_ALL_WATCHES = r\"https://www.watchfinder.co.uk/all-watches?orderby=BestMatch&pageno=\"\n",
    "URL_BASE = r\"https://www.watchfinder.co.uk\""
   ]
  },
  {
   "cell_type": "code",
   "execution_count": 3,
   "id": "nervous-healthcare",
   "metadata": {},
   "outputs": [],
   "source": [
    "keys = ['brand',\n",
    "        'series',\n",
    "        'model',\n",
    "        'price',\n",
    "        'Year',\n",
    "        'Box',\n",
    "        'Papers',\n",
    "        'Manufacturer warranty',\n",
    "        'Watchfinder warranty',\n",
    "        'Availability',\n",
    "        'Delivery',\n",
    "        'Returns policy',\n",
    "        'Product code',\n",
    "        'Movement',\n",
    "        'Case size',\n",
    "        'Case material',\n",
    "        'Bracelet material',\n",
    "        'Dial type',\n",
    "        'Water resistance',\n",
    "        'Location',\n",
    "        'img_name']"
   ]
  },
  {
   "cell_type": "code",
   "execution_count": 6,
   "id": "nutritional-scanner",
   "metadata": {},
   "outputs": [],
   "source": [
    "def g(i):\n",
    "    headers = {'User-Agent': 'Mozilla/5.0'}\n",
    "    req = Request(URL_ALL_WATCHES + i, headers=headers)\n",
    "    html = urlopen(req)\n",
    "    bs = BeautifulSoup(html.read(), 'html.parser')\n",
    "    \n",
    "    a_tags = bs.find_all('a', {'class': 'prods_name redirect'})\n",
    "    \n",
    "    urls = []\n",
    "    \n",
    "    for i in range(len(a_tags)):\n",
    "        urls.append(a_tags[i].attrs['href'])\n",
    "        \n",
    "    for i in range(len(urls)):\n",
    "        urls[i] = urls[i].replace(' ', '%20')\n",
    "    \n",
    "    return urls"
   ]
  },
  {
   "cell_type": "code",
   "execution_count": 7,
   "id": "proved-spectacular",
   "metadata": {},
   "outputs": [
    {
     "name": "stdout",
     "output_type": "stream",
     "text": [
      "Wall time: 4min 15s\n"
     ]
    }
   ],
   "source": [
    "%%time\n",
    "\n",
    "urls = []\n",
    "for i in range(1, 115):\n",
    "    urls = urls + g(str(i))"
   ]
  },
  {
   "cell_type": "code",
   "execution_count": 38,
   "id": "indie-superior",
   "metadata": {},
   "outputs": [],
   "source": [
    "for i in range(len(urls)):\n",
    "    if urls[i].find('é') > 1:\n",
    "        urls[i] = urls[i].replace('é', '\\\\xe9')"
   ]
  },
  {
   "cell_type": "code",
   "execution_count": 9,
   "id": "scenic-degree",
   "metadata": {},
   "outputs": [],
   "source": [
    "def f(url):\n",
    "    headers = {'User-Agent': 'Mozilla/5.0'}\n",
    "    req = Request(url, headers=headers)\n",
    "    html = urlopen(req)\n",
    "    bs = BeautifulSoup(html.read(), 'html.parser')\n",
    "    \n",
    "    table_data = bs.find_all('tr')\n",
    "    \n",
    "    watches_dict = {}\n",
    "\n",
    "    for key in keys:\n",
    "        watches_dict[key] = None\n",
    "\n",
    "    for i in range(len(table_data)):\n",
    "\n",
    "        if len(list(table_data[i])) == 5:\n",
    "\n",
    "            if list(table_data[i])[1].find('div'):\n",
    "                key = list(list(table_data[i])[1].find('div'))[0]            \n",
    "                value = list(list(table_data[i])[3])[0]\n",
    "\n",
    "                watches_dict[key] = value\n",
    "\n",
    "            else:\n",
    "                key = list(list(table_data[i])[1])[0]            \n",
    "                value = list(list(table_data[i])[3])[0]\n",
    "\n",
    "                watches_dict[key] = value\n",
    "                \n",
    "    brand = list(bs.find('span', {'class': 'prod_brand ellipsis'}))[0]\n",
    "    series = list(bs.find('span', {'class': 'prod_series ellipsis'}))[0]\n",
    "    model = list(bs.find('span', {'class': 'prod_model ellipsis'}))[0]\n",
    "    price = bs.find('meta', {'itemprop': 'price'}).attrs['content']\n",
    "    \n",
    "    watches_dict['brand'] = brand\n",
    "    watches_dict['series'] = series\n",
    "    watches_dict['model'] = model\n",
    "    watches_dict['price'] = price\n",
    "    \n",
    "    image = bs.find('meta', {'itemprop': 'image'})\n",
    "    img_url = image.attrs['content']\n",
    "    img_name = basename(img_url)\n",
    "    watches_dict['img_name'] = img_name\n",
    "    save_path = os.path.join('./images/', img_name)\n",
    "    with open(save_path, 'wb') as handle:\n",
    "            response = requests.get(img_url, stream=True)\n",
    "\n",
    "            if not response.ok:\n",
    "                print(response)\n",
    "\n",
    "            for block in response.iter_content(1024):\n",
    "                if not block:\n",
    "                    break\n",
    "\n",
    "                handle.write(block)\n",
    "                \n",
    "    return watches_dict"
   ]
  },
  {
   "cell_type": "code",
   "execution_count": 39,
   "id": "acute-sympathy",
   "metadata": {},
   "outputs": [
    {
     "ename": "KeyError",
     "evalue": "'content'",
     "output_type": "error",
     "traceback": [
      "\u001b[1;31m---------------------------------------------------------------------------\u001b[0m",
      "\u001b[1;31mKeyError\u001b[0m                                  Traceback (most recent call last)",
      "\u001b[1;32m<timed exec>\u001b[0m in \u001b[0;36m<module>\u001b[1;34m\u001b[0m\n",
      "\u001b[1;32m<ipython-input-9-0a8fde7be354>\u001b[0m in \u001b[0;36mf\u001b[1;34m(url)\u001b[0m\n\u001b[0;32m     39\u001b[0m \u001b[1;33m\u001b[0m\u001b[0m\n\u001b[0;32m     40\u001b[0m     \u001b[0mimage\u001b[0m \u001b[1;33m=\u001b[0m \u001b[0mbs\u001b[0m\u001b[1;33m.\u001b[0m\u001b[0mfind\u001b[0m\u001b[1;33m(\u001b[0m\u001b[1;34m'meta'\u001b[0m\u001b[1;33m,\u001b[0m \u001b[1;33m{\u001b[0m\u001b[1;34m'itemprop'\u001b[0m\u001b[1;33m:\u001b[0m \u001b[1;34m'image'\u001b[0m\u001b[1;33m}\u001b[0m\u001b[1;33m)\u001b[0m\u001b[1;33m\u001b[0m\u001b[1;33m\u001b[0m\u001b[0m\n\u001b[1;32m---> 41\u001b[1;33m     \u001b[0mimg_url\u001b[0m \u001b[1;33m=\u001b[0m \u001b[0mimage\u001b[0m\u001b[1;33m.\u001b[0m\u001b[0mattrs\u001b[0m\u001b[1;33m[\u001b[0m\u001b[1;34m'content'\u001b[0m\u001b[1;33m]\u001b[0m\u001b[1;33m\u001b[0m\u001b[1;33m\u001b[0m\u001b[0m\n\u001b[0m\u001b[0;32m     42\u001b[0m     \u001b[0mimg_name\u001b[0m \u001b[1;33m=\u001b[0m \u001b[0mbasename\u001b[0m\u001b[1;33m(\u001b[0m\u001b[0mimg_url\u001b[0m\u001b[1;33m)\u001b[0m\u001b[1;33m\u001b[0m\u001b[1;33m\u001b[0m\u001b[0m\n\u001b[0;32m     43\u001b[0m     \u001b[0mwatches_dict\u001b[0m\u001b[1;33m[\u001b[0m\u001b[1;34m'img_name'\u001b[0m\u001b[1;33m]\u001b[0m \u001b[1;33m=\u001b[0m \u001b[0mimg_name\u001b[0m\u001b[1;33m\u001b[0m\u001b[1;33m\u001b[0m\u001b[0m\n",
      "\u001b[1;31mKeyError\u001b[0m: 'content'"
     ]
    }
   ],
   "source": [
    "%%time\n",
    "\n",
    "dicts = []\n",
    "\n",
    "for url in urls:\n",
    "    dicts.append(f(URL_BASE + url))"
   ]
  },
  {
   "cell_type": "code",
   "execution_count": 40,
   "id": "designed-communications",
   "metadata": {},
   "outputs": [],
   "source": [
    "big_dict = {}\n",
    "\n",
    "for k in dicts[0]:\n",
    "    big_dict[k] = [d[k] for d in dicts]"
   ]
  },
  {
   "cell_type": "code",
   "execution_count": 41,
   "id": "champion-victory",
   "metadata": {},
   "outputs": [],
   "source": [
    "df = pd.DataFrame.from_dict(big_dict)"
   ]
  },
  {
   "cell_type": "code",
   "execution_count": 42,
   "id": "crazy-amount",
   "metadata": {},
   "outputs": [],
   "source": [
    "df.to_csv('wf_df_raw.csv')"
   ]
  },
  {
   "cell_type": "code",
   "execution_count": null,
   "id": "opposite-penny",
   "metadata": {},
   "outputs": [],
   "source": [
    "# df = pd.read_csv('wf_df_raw.csv')"
   ]
  },
  {
   "cell_type": "code",
   "execution_count": null,
   "id": "naval-illness",
   "metadata": {},
   "outputs": [],
   "source": []
  },
  {
   "cell_type": "code",
   "execution_count": null,
   "id": "removable-temple",
   "metadata": {},
   "outputs": [],
   "source": []
  },
  {
   "cell_type": "code",
   "execution_count": null,
   "id": "scheduled-chinese",
   "metadata": {},
   "outputs": [],
   "source": []
  },
  {
   "cell_type": "code",
   "execution_count": null,
   "id": "distributed-spell",
   "metadata": {},
   "outputs": [],
   "source": []
  },
  {
   "cell_type": "code",
   "execution_count": 24,
   "id": "permanent-springer",
   "metadata": {},
   "outputs": [],
   "source": [
    "for url in urls:\n",
    "    if url.find('xe9') == 1:\n",
    "        print(url)"
   ]
  },
  {
   "cell_type": "code",
   "execution_count": 37,
   "id": "common-citation",
   "metadata": {},
   "outputs": [
    {
     "name": "stdout",
     "output_type": "stream",
     "text": [
      "/Franck%20Muller/Cintrée%20Curvex/9880%20SC%20DT%20REL/44518/item/154152?searchId=875eb3f2-9b0d-43c3-8acc-3f1c3cf1c6d3&rank=13\n",
      "/IWC/Pilots%20Chrono%20Antoine%20de%20St%20Exupéry/IW371711/36400/item/172079?searchId=290c2429-3117-40f7-a2c9-6c042bccc8eb&rank=9\n"
     ]
    }
   ],
   "source": [
    "for i in range(len(urls)):\n",
    "    if urls[i].find('é') > 1:\n",
    "        urls[i] = urls[i].replace('é', '\\\\xe9')"
   ]
  },
  {
   "cell_type": "code",
   "execution_count": 36,
   "id": "found-portsmouth",
   "metadata": {},
   "outputs": [
    {
     "data": {
      "text/plain": [
       "-1"
      ]
     },
     "execution_count": 36,
     "metadata": {},
     "output_type": "execute_result"
    }
   ],
   "source": [
    "urls[171].find('é')"
   ]
  },
  {
   "cell_type": "code",
   "execution_count": 34,
   "id": "seventh-repair",
   "metadata": {},
   "outputs": [
    {
     "data": {
      "text/plain": [
       "'/Franck%20Muller/Cintr\\\\xe9e%20Curvex/9880%20SC%20DT%20REL/44518/item/154152?searchId=875eb3f2-9b0d-43c3-8acc-3f1c3cf1c6d3&rank=13'"
      ]
     },
     "execution_count": 34,
     "metadata": {},
     "output_type": "execute_result"
    }
   ],
   "source": [
    "urls[172].replace('é', '\\\\xe9')"
   ]
  }
 ],
 "metadata": {
  "kernelspec": {
   "display_name": "Python 3",
   "language": "python",
   "name": "python3"
  },
  "language_info": {
   "codemirror_mode": {
    "name": "ipython",
    "version": 3
   },
   "file_extension": ".py",
   "mimetype": "text/x-python",
   "name": "python",
   "nbconvert_exporter": "python",
   "pygments_lexer": "ipython3",
   "version": "3.8.5"
  }
 },
 "nbformat": 4,
 "nbformat_minor": 5
}
