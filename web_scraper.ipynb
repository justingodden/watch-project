{
 "cells": [
  {
   "cell_type": "code",
   "execution_count": 1,
   "id": "diagnostic-active",
   "metadata": {},
   "outputs": [],
   "source": [
    "# Standard data analysis libraries\n",
    "import pandas as pd\n",
    "\n",
    "# Web scraping libraries\n",
    "from urllib.request import urlopen, Request\n",
    "from urllib.error import HTTPError, URLError\n",
    "import requests\n",
    "from bs4 import BeautifulSoup\n",
    "import os"
   ]
  },
  {
   "cell_type": "code",
   "execution_count": 2,
   "id": "attractive-contract",
   "metadata": {},
   "outputs": [],
   "source": [
    "URL_ALL_WATCHES = r\"https://www.watchfinder.co.uk/all-watches?orderby=BestMatch&pageno=\"\n",
    "URL_BASE = r\"https://www.watchfinder.co.uk\""
   ]
  },
  {
   "cell_type": "code",
   "execution_count": 3,
   "id": "better-latino",
   "metadata": {},
   "outputs": [],
   "source": [
    "keys = ['id',\n",
    "        'brand',\n",
    "        'series',\n",
    "        'model',\n",
    "        'price',\n",
    "        'Year',\n",
    "        'Box',\n",
    "        'Papers',\n",
    "        'Manufacturer warranty',\n",
    "        'Watchfinder warranty',\n",
    "        'Availability',\n",
    "        'Delivery',\n",
    "        'Returns policy',\n",
    "        'Product code',\n",
    "        'Movement',\n",
    "        'Case size',\n",
    "        'Case material',\n",
    "        'Bracelet material',\n",
    "        'Dial type',\n",
    "        'Water resistance',\n",
    "        'Location',\n",
    "        'img_name']"
   ]
  },
  {
   "cell_type": "code",
   "execution_count": 4,
   "id": "active-animation",
   "metadata": {},
   "outputs": [],
   "source": [
    "def g(page_num):\n",
    "    headers = {'User-Agent': 'Mozilla/5.0'}\n",
    "    req = Request(URL_ALL_WATCHES + page_num, headers=headers)\n",
    "    html = urlopen(req)\n",
    "    bs = BeautifulSoup(html.read(), 'html.parser')\n",
    "    \n",
    "    a_tags = bs.find_all('a', {'class': 'prods_name redirect'})\n",
    "    \n",
    "    urls = []\n",
    "    \n",
    "    for i in range(len(a_tags)):\n",
    "        urls.append(a_tags[i].attrs['href'])\n",
    "        \n",
    "    for i in range(len(urls)):\n",
    "        urls[i] = urls[i].replace(' ', '%20')\n",
    "    \n",
    "    return urls"
   ]
  },
  {
   "cell_type": "code",
   "execution_count": 5,
   "id": "aggregate-tradition",
   "metadata": {},
   "outputs": [
    {
     "name": "stdout",
     "output_type": "stream",
     "text": [
      "Wall time: 4min 23s\n"
     ]
    }
   ],
   "source": [
    "%%time\n",
    "\n",
    "urls = []\n",
    "for i in range(1, 114):\n",
    "    urls = urls + g(str(i))\n",
    "    \n",
    "    print(f'{i+1} / {len(range(1, 114))} completed', end='\\r')"
   ]
  },
  {
   "cell_type": "code",
   "execution_count": 6,
   "id": "interim-shoulder",
   "metadata": {},
   "outputs": [],
   "source": [
    "for i in range(len(urls)):\n",
    "    if urls[i].find('é') > 1:\n",
    "        urls[i] = urls[i].replace('é', '\\\\xe9')"
   ]
  },
  {
   "cell_type": "code",
   "execution_count": 7,
   "id": "fluid-supervision",
   "metadata": {},
   "outputs": [],
   "source": [
    "def f(url, idx):\n",
    "    headers = {'User-Agent': 'Mozilla/5.0'}\n",
    "    req = Request(url, headers=headers)\n",
    "    html = urlopen(req)\n",
    "    bs = BeautifulSoup(html.read(), 'html.parser')\n",
    "    \n",
    "    table_data = bs.find_all('tr')\n",
    "    \n",
    "    watches_dict = {}\n",
    "\n",
    "    for key in keys:\n",
    "        watches_dict[key] = None\n",
    "    \n",
    "    watches_dict['id'] = idx\n",
    "    \n",
    "    for i in range(len(table_data)):\n",
    "\n",
    "        if len(list(table_data[i])) == 5:\n",
    "\n",
    "            if list(table_data[i])[1].find('div'):\n",
    "                key = list(list(table_data[i])[1].find('div'))[0]            \n",
    "                value = list(list(table_data[i])[3])[0]\n",
    "\n",
    "                watches_dict[key] = value\n",
    "\n",
    "            else:\n",
    "                key = list(list(table_data[i])[1])[0]            \n",
    "                value = list(list(table_data[i])[3])[0]\n",
    "\n",
    "                watches_dict[key] = value\n",
    "                \n",
    "    brand = list(bs.find('span', {'class': 'prod_brand ellipsis'}))[0]\n",
    "    series = list(bs.find('span', {'class': 'prod_series ellipsis'}))[0]\n",
    "    model = list(bs.find('span', {'class': 'prod_model ellipsis'}))[0]\n",
    "    price = bs.find('meta', {'itemprop': 'price'}).attrs['content']\n",
    "    \n",
    "    watches_dict['brand'] = brand\n",
    "    watches_dict['series'] = series\n",
    "    watches_dict['model'] = model\n",
    "    watches_dict['price'] = price\n",
    "    \n",
    "    try:\n",
    "        image = bs.find('meta', {'itemprop': 'image'})\n",
    "        img_url = image.attrs['content']\n",
    "        img_name = str(idx) + '.jpg'\n",
    "        watches_dict['img_name'] = img_name\n",
    "        save_path = os.path.join('./images/', img_name)\n",
    "        with open(save_path, 'wb') as handle:\n",
    "            response = requests.get(img_url, stream=True)\n",
    "            \n",
    "            if not response.ok:\n",
    "                print(response)\n",
    "            \n",
    "            for block in response.iter_content(1024):\n",
    "                if not block:\n",
    "                    break\n",
    "                    \n",
    "                handle.write(block)\n",
    "        \n",
    "    except:\n",
    "        pass\n",
    "        \n",
    "    return watches_dict"
   ]
  },
  {
   "cell_type": "code",
   "execution_count": 15,
   "id": "competent-basketball",
   "metadata": {},
   "outputs": [
    {
     "name": "stdout",
     "output_type": "stream",
     "text": [
      "/Longines/Conquest/L3.777.4.99.6/36600/item/178644?searchId=0aaa4987-c668-4d77-a26e-49a1ef8258f4&rank=19\n",
      "'NoneType' object has no attribute 'attrs'\n",
      "/Breguet/Classique/5930BB/12/986/11937/item/183992?searchId=cb545433-ff5d-457f-a372-1f802cdbc666&rank=34\n",
      "'NoneType' object has no attribute 'attrs'\n",
      "/Rolex/GMT%20Master%20II/126710%20BLNR/39491/item/182612?searchId=5d1ce02e-13d6-4774-a841-6f14a84718d3&rank=6\n",
      "'NoneType' object has no attribute 'attrs'\n",
      "/Rolex/Datejust%2041/126334/34330/item/182658?searchId=9d8ae00a-d82c-4791-abaa-0f1417597c8f&rank=9\n",
      "'NoneType' object has no attribute 'attrs'\n",
      "/Rolex/GMT%20Master%20II/126710%20BLRO/35644/item/183549?searchId=9d8ae00a-d82c-4791-abaa-0f1417597c8f&rank=13\n",
      "'NoneType' object has no attribute 'attrs'\n",
      "<Response [404]>leted\n",
      "/Panerai/Luminor%20Base/PAM00112/3772/item/180316?searchId=4fe3e828-2f20-4f39-a9f6-8e83ae7cc46a&rank=2\n",
      "'NoneType' object has no attribute 'attrs'\n",
      "/Panerai/Manifattura%20Luminor/PAM00289/36594/item/174017?searchId=d5f6a1b0-fee5-480f-8867-643d5af80516&rank=34\n",
      "'NoneType' object has no attribute 'attrs'\n",
      "/Panerai/Radiomir%20Automatic/PAM00288/47345/item/158979?searchId=1f8e091e-c1e4-4a5f-a1fc-cfe5be1257df&rank=3\n",
      "'NoneType' object has no attribute 'attrs'\n",
      "Wall time: 1h 8min 48s\n"
     ]
    }
   ],
   "source": [
    "%%time\n",
    "\n",
    "dicts = []\n",
    "\n",
    "for idx in range(len(urls)):\n",
    "    \n",
    "    try:\n",
    "        dicts.append(f(URL_BASE + urls[idx], idx))\n",
    "        \n",
    "    except Exception as e:\n",
    "        print(urls[idx])\n",
    "        print(e)\n",
    "    \n",
    "    print(f'{idx+1} / {len(urls)} completed', end='\\r')"
   ]
  },
  {
   "cell_type": "code",
   "execution_count": 16,
   "id": "adapted-canal",
   "metadata": {},
   "outputs": [],
   "source": [
    "big_dict = {}\n",
    "\n",
    "for k in dicts[0]:\n",
    "    big_dict[k] = [d[k] for d in dicts]"
   ]
  },
  {
   "cell_type": "code",
   "execution_count": 17,
   "id": "secondary-bermuda",
   "metadata": {},
   "outputs": [],
   "source": [
    "df = pd.DataFrame.from_dict(big_dict)"
   ]
  },
  {
   "cell_type": "code",
   "execution_count": 18,
   "id": "liberal-origin",
   "metadata": {},
   "outputs": [],
   "source": [
    "df.to_csv('wf_df_raw.csv')"
   ]
  },
  {
   "cell_type": "code",
   "execution_count": null,
   "id": "modern-humidity",
   "metadata": {},
   "outputs": [],
   "source": [
    "# df = pd.read_csv('wf_df_raw.csv')"
   ]
  },
  {
   "cell_type": "code",
   "execution_count": null,
   "id": "familiar-performance",
   "metadata": {},
   "outputs": [],
   "source": []
  }
 ],
 "metadata": {
  "kernelspec": {
   "display_name": "Python 3",
   "language": "python",
   "name": "python3"
  },
  "language_info": {
   "codemirror_mode": {
    "name": "ipython",
    "version": 3
   },
   "file_extension": ".py",
   "mimetype": "text/x-python",
   "name": "python",
   "nbconvert_exporter": "python",
   "pygments_lexer": "ipython3",
   "version": "3.8.5"
  }
 },
 "nbformat": 4,
 "nbformat_minor": 5
}
