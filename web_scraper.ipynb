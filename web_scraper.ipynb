{
 "cells": [
  {
   "cell_type": "code",
   "execution_count": 1,
   "id": "veterinary-berlin",
   "metadata": {},
   "outputs": [],
   "source": [
    "# Standard data analysis libraries\n",
    "import numpy as np\n",
    "import pandas as pd\n",
    "import matplotlib.pyplot as plt\n",
    "import matplotlib as mpl\n",
    "import seaborn as sns\n",
    "\n",
    "# Web scraping libraries\n",
    "from urllib.request import urlopen, Request\n",
    "from urllib.error import HTTPError, URLError\n",
    "import requests\n",
    "import bs4\n",
    "\n",
    "from bs4 import BeautifulSoup\n",
    "import re\n",
    "import os\n",
    "from os.path import basename\n",
    "\n",
    "# Some styling\n",
    "%matplotlib inline\n",
    "plt.style.use('fivethirtyeight')\n",
    "mpl.rcParams['figure.figsize'] = (14, 8)\n",
    "plt.rc('axes', titlesize=22) \n",
    "plt.rc('figure', titlesize=22)\n",
    "plt.rc('legend', fontsize=14)\n",
    "plt.rc('xtick', labelsize=14)\n",
    "plt.rc('ytick', labelsize=14)\n",
    "plt.rc('axes', labelsize=14)\n"
   ]
  },
  {
   "cell_type": "code",
   "execution_count": 2,
   "id": "beautiful-maximum",
   "metadata": {},
   "outputs": [],
   "source": [
    "URL_ALL_WATCHES = r\"https://www.watchfinder.co.uk/all-watches?orderby=BestMatch&pageno=\"\n",
    "URL_BASE = r\"https://www.watchfinder.co.uk\""
   ]
  },
  {
   "cell_type": "code",
   "execution_count": 3,
   "id": "composed-angel",
   "metadata": {},
   "outputs": [],
   "source": [
    "keys = ['id',\n",
    "        'brand',\n",
    "        'series',\n",
    "        'model',\n",
    "        'price',\n",
    "        'Year',\n",
    "        'Box',\n",
    "        'Papers',\n",
    "        'Manufacturer warranty',\n",
    "        'Watchfinder warranty',\n",
    "        'Availability',\n",
    "        'Delivery',\n",
    "        'Returns policy',\n",
    "        'Product code',\n",
    "        'Movement',\n",
    "        'Case size',\n",
    "        'Case material',\n",
    "        'Bracelet material',\n",
    "        'Dial type',\n",
    "        'Water resistance',\n",
    "        'Location',\n",
    "        'img_name']"
   ]
  },
  {
   "cell_type": "code",
   "execution_count": 4,
   "id": "every-canyon",
   "metadata": {},
   "outputs": [],
   "source": [
    "def g(i):\n",
    "    headers = {'User-Agent': 'Mozilla/5.0'}\n",
    "    req = Request(URL_ALL_WATCHES + i, headers=headers)\n",
    "    html = urlopen(req)\n",
    "    bs = BeautifulSoup(html.read(), 'html.parser')\n",
    "    \n",
    "    a_tags = bs.find_all('a', {'class': 'prods_name redirect'})\n",
    "    \n",
    "    urls = []\n",
    "    \n",
    "    for i in range(len(a_tags)):\n",
    "        urls.append(a_tags[i].attrs['href'])\n",
    "        \n",
    "    for i in range(len(urls)):\n",
    "        urls[i] = urls[i].replace(' ', '%20')\n",
    "    \n",
    "    return urls"
   ]
  },
  {
   "cell_type": "code",
   "execution_count": 5,
   "id": "square-strike",
   "metadata": {},
   "outputs": [
    {
     "name": "stdout",
     "output_type": "stream",
     "text": [
      "Wall time: 3min 51s\n"
     ]
    }
   ],
   "source": [
    "%%time\n",
    "\n",
    "urls = []\n",
    "for i in range(1, 115):\n",
    "    urls = urls + g(str(i))"
   ]
  },
  {
   "cell_type": "code",
   "execution_count": 6,
   "id": "median-universal",
   "metadata": {},
   "outputs": [],
   "source": [
    "for i in range(len(urls)):\n",
    "    if urls[i].find('é') > 1:\n",
    "        urls[i] = urls[i].replace('é', '\\\\xe9')"
   ]
  },
  {
   "cell_type": "code",
   "execution_count": 7,
   "id": "italian-library",
   "metadata": {},
   "outputs": [],
   "source": [
    "def f(url, idx):\n",
    "    headers = {'User-Agent': 'Mozilla/5.0'}\n",
    "    req = Request(url, headers=headers)\n",
    "    html = urlopen(req)\n",
    "    bs = BeautifulSoup(html.read(), 'html.parser')\n",
    "    \n",
    "    table_data = bs.find_all('tr')\n",
    "    \n",
    "    watches_dict = {}\n",
    "\n",
    "    for key in keys:\n",
    "        watches_dict[key] = None\n",
    "    \n",
    "    watches_dict['id'] = idx\n",
    "    \n",
    "    for i in range(len(table_data)):\n",
    "\n",
    "        if len(list(table_data[i])) == 5:\n",
    "\n",
    "            if list(table_data[i])[1].find('div'):\n",
    "                key = list(list(table_data[i])[1].find('div'))[0]            \n",
    "                value = list(list(table_data[i])[3])[0]\n",
    "\n",
    "                watches_dict[key] = value\n",
    "\n",
    "            else:\n",
    "                key = list(list(table_data[i])[1])[0]            \n",
    "                value = list(list(table_data[i])[3])[0]\n",
    "\n",
    "                watches_dict[key] = value\n",
    "                \n",
    "    brand = list(bs.find('span', {'class': 'prod_brand ellipsis'}))[0]\n",
    "    series = list(bs.find('span', {'class': 'prod_series ellipsis'}))[0]\n",
    "    model = list(bs.find('span', {'class': 'prod_model ellipsis'}))[0]\n",
    "    price = bs.find('meta', {'itemprop': 'price'}).attrs['content']\n",
    "    \n",
    "    watches_dict['brand'] = brand\n",
    "    watches_dict['series'] = series\n",
    "    watches_dict['model'] = model\n",
    "    watches_dict['price'] = price\n",
    "    \n",
    "    try:\n",
    "        image = bs.find('meta', {'itemprop': 'image'})\n",
    "        img_url = image.attrs['content']\n",
    "        img_name = idx + '.jpg'\n",
    "        watches_dict['img_name'] = img_name\n",
    "        save_path = os.path.join('./images/', img_name)\n",
    "        with open(save_path, 'wb') as handle:\n",
    "                response = requests.get(img_url, stream=True)\n",
    "\n",
    "                if not response.ok:\n",
    "                    print(response)\n",
    "\n",
    "                for block in response.iter_content(1024):\n",
    "                    if not block:\n",
    "                        break\n",
    "\n",
    "                    handle.write(block)\n",
    "        \n",
    "    except:\n",
    "        pass\n",
    "        \n",
    "    return watches_dict"
   ]
  },
  {
   "cell_type": "code",
   "execution_count": 14,
   "id": "earlier-escape",
   "metadata": {},
   "outputs": [
    {
     "name": "stdout",
     "output_type": "stream",
     "text": [
      "/Omega/Planet%20Ocean/232.32.46.21.01.001/23749/item/183674?searchId=2c6e0d14-7137-400a-b53d-6a6b63cab628&rank=15\n",
      "'NoneType' object has no attribute 'attrs'\n",
      "/Panerai/Submersible/PAM00974/42374/item/182966?searchId=79cb6c9c-7777-4a17-9926-f2309aaee802&rank=20\n",
      "'NoneType' object has no attribute 'attrs'\n",
      "/Rolex/Air-King/116900/29608/item/184106?searchId=74e7653c-7f1b-405d-aa3a-6e4f5bb38440&rank=26\n",
      "'NoneType' object has no attribute 'attrs'\n",
      "<Response [404]>\n",
      "/Rolex/Oysterquartz%20Datejust/17000/34171/item/179826?searchId=26527d5a-3b17-41d4-85a1-bdbb51e2c3e4&rank=20\n",
      "'NoneType' object has no attribute 'attrs'\n",
      "/Panerai/Luminor%20Submersible/PAM00615/27693/item/156423?searchId=b6270c32-2baa-4e06-af10-a51a15126aae&rank=1\n",
      "'NoneType' object has no attribute 'attrs'\n",
      "/Cartier/Calibre%20de%20Cartier/W7100036/17882/item/157760?searchId=d0d94394-a0a1-46b4-9867-729a464a9c85&rank=18\n",
      "'NoneType' object has no attribute 'attrs'\n",
      "Wall time: 1h 13min 10s\n"
     ]
    }
   ],
   "source": [
    "%%time\n",
    "\n",
    "dicts = []\n",
    "\n",
    "for idx in range(len(urls)):\n",
    "    \n",
    "    try:\n",
    "        dicts.append(f(URL_BASE + urls[i], idx))\n",
    "        \n",
    "    except Exception as e:\n",
    "        print(url)\n",
    "        print(e)"
   ]
  },
  {
   "cell_type": "code",
   "execution_count": 15,
   "id": "framed-story",
   "metadata": {},
   "outputs": [],
   "source": [
    "big_dict = {}\n",
    "\n",
    "for k in dicts[0]:\n",
    "    big_dict[k] = [d[k] for d in dicts]"
   ]
  },
  {
   "cell_type": "code",
   "execution_count": 16,
   "id": "alike-powder",
   "metadata": {},
   "outputs": [],
   "source": [
    "df = pd.DataFrame.from_dict(big_dict)"
   ]
  },
  {
   "cell_type": "code",
   "execution_count": 17,
   "id": "remarkable-heading",
   "metadata": {},
   "outputs": [],
   "source": [
    "df.to_csv('wf_df_raw.csv')"
   ]
  },
  {
   "cell_type": "code",
   "execution_count": null,
   "id": "assisted-california",
   "metadata": {},
   "outputs": [],
   "source": [
    "# df = pd.read_csv('wf_df_raw.csv')"
   ]
  },
  {
   "cell_type": "code",
   "execution_count": null,
   "id": "adopted-farmer",
   "metadata": {},
   "outputs": [],
   "source": []
  }
 ],
 "metadata": {
  "kernelspec": {
   "display_name": "Python 3",
   "language": "python",
   "name": "python3"
  },
  "language_info": {
   "codemirror_mode": {
    "name": "ipython",
    "version": 3
   },
   "file_extension": ".py",
   "mimetype": "text/x-python",
   "name": "python",
   "nbconvert_exporter": "python",
   "pygments_lexer": "ipython3",
   "version": "3.8.5"
  }
 },
 "nbformat": 4,
 "nbformat_minor": 5
}
